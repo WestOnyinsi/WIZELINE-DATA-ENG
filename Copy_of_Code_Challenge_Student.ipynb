{
  "nbformat": 4,
  "nbformat_minor": 0,
  "metadata": {
    "colab": {
      "provenance": []
    },
    "kernelspec": {
      "name": "python3",
      "display_name": "Python 3"
    },
    "language_info": {
      "name": "python"
    }
  },
  "cells": [
    {
      "cell_type": "markdown",
      "source": [
        "#Data Bootcamp Selection Challenge\n",
        "#####In this challenge you will calculate various KPIs using a car based dataset, each question will have a single correct answer that will be evaluated through automated unit testing. Use the dictionary provided below to fill in your answers, each question will state the format required for the answer and examples are provided so you know how properly fill the answer dictionary.\n",
        "#####**Use the dataset \"as is\" and do not perform any data cleaning or modify it in any way, doing so could make you answer all your questions incorrectly. Do not modify the structure of the answer dictionary.**\n",
        "\n",
        "#####When you finish this challenge please upload both your notebook and your answer dictionary in pickle format to a public github repository submit their URL to the [google form](https://forms.gle/jqufStbvLd99bF539) that was provided to you.\n",
        "\n",
        "##### Some unit tests are provided at the end of this notebook to help you verify your answers are in the correct format, however they will not test everything.\n",
        "\n",
        "\n",
        "\n"
      ],
      "metadata": {
        "id": "Ab6tQ8XLwqzG"
      }
    },
    {
      "cell_type": "code",
      "execution_count": 2,
      "metadata": {
        "id": "1kj3oTmRvWXi"
      },
      "outputs": [],
      "source": [
        "#Use this dictionary to store your answers in the correct format in the cells below , do not modify the keys\n",
        "answer_dict =  {\"Q1\" : None,\n",
        "                \"Q2\" : None,\n",
        "                \"Q3\" : None,\n",
        "                \"Q4\" : None,\n",
        "                \"Q5\" : None,\n",
        "                \"Q6\" : None,\n",
        "                \"Q7\" : None}"
      ]
    },
    {
      "cell_type": "markdown",
      "source": [
        "##Reading the dataset\n",
        "#####An example is provided to read the dataset using [pandas](https://pandas.pydata.org/), while we reccommend using pandas you may use any python library to solve this challenge."
      ],
      "metadata": {
        "id": "Z0pZ4Vlx3VZy"
      }
    },
    {
      "cell_type": "code",
      "source": [
        "import pandas as pd\n",
        "import numpy as np\n",
        "url = \"https://storage.googleapis.com/deb-evaluation-materials/vehicles.csv\"\n",
        "df = pd.read_csv(url)"
      ],
      "metadata": {
        "id": "7U3UNKSj3oxa"
      },
      "execution_count": 3,
      "outputs": []
    },
    {
      "cell_type": "code",
      "source": [
        "df.head()"
      ],
      "metadata": {
        "id": "J10uW58Qv2B_",
        "colab": {
          "base_uri": "https://localhost:8080/",
          "height": 530
        },
        "outputId": "857fa71e-c484-4d8b-b414-1261e438817d"
      },
      "execution_count": 4,
      "outputs": [
        {
          "output_type": "execute_result",
          "data": {
            "text/plain": [
              "               Make                Model  Year  Engine Displacement  \\\n",
              "0        AM General    DJ Po Vehicle 2WD  1984                  2.5   \n",
              "1        AM General     FJ8c Post Office  1984                  4.2   \n",
              "2        AM General  Post Office DJ5 2WD  1985                  2.5   \n",
              "3        AM General  Post Office DJ8 2WD  1985                  4.2   \n",
              "4  ASC Incorporated                  GNX  1987                  3.8   \n",
              "\n",
              "   Cylinders     Transmission        Drivetrain                Vehicle Class  \\\n",
              "0        4.0  Automatic 3-spd     2-Wheel Drive  Special Purpose Vehicle 2WD   \n",
              "1        6.0  Automatic 3-spd     2-Wheel Drive  Special Purpose Vehicle 2WD   \n",
              "2        4.0  Automatic 3-spd  Rear-Wheel Drive  Special Purpose Vehicle 2WD   \n",
              "3        6.0  Automatic 3-spd  Rear-Wheel Drive  Special Purpose Vehicle 2WD   \n",
              "4        6.0  Automatic 4-spd  Rear-Wheel Drive                 Midsize Cars   \n",
              "\n",
              "  Fuel Type  Fuel Barrels/Year  City MPG  Highway MPG  Combined MPG  \\\n",
              "0   Regular          19.388824        18           17            17   \n",
              "1   Regular          25.354615        13           13            13   \n",
              "2   Regular          20.600625        16           17            16   \n",
              "3   Regular          25.354615        13           13            13   \n",
              "4   Premium          20.600625        14           21            16   \n",
              "\n",
              "   CO2 Emission Grams/Mile  Fuel Cost/Year  \n",
              "0               522.764706            1950  \n",
              "1               683.615385            2550  \n",
              "2               555.437500            2100  \n",
              "3               683.615385            2550  \n",
              "4               555.437500            2550  "
            ],
            "text/html": [
              "\n",
              "\n",
              "  <div id=\"df-2df17c7f-6ffb-4b76-ad93-17b77b02de14\">\n",
              "    <div class=\"colab-df-container\">\n",
              "      <div>\n",
              "<style scoped>\n",
              "    .dataframe tbody tr th:only-of-type {\n",
              "        vertical-align: middle;\n",
              "    }\n",
              "\n",
              "    .dataframe tbody tr th {\n",
              "        vertical-align: top;\n",
              "    }\n",
              "\n",
              "    .dataframe thead th {\n",
              "        text-align: right;\n",
              "    }\n",
              "</style>\n",
              "<table border=\"1\" class=\"dataframe\">\n",
              "  <thead>\n",
              "    <tr style=\"text-align: right;\">\n",
              "      <th></th>\n",
              "      <th>Make</th>\n",
              "      <th>Model</th>\n",
              "      <th>Year</th>\n",
              "      <th>Engine Displacement</th>\n",
              "      <th>Cylinders</th>\n",
              "      <th>Transmission</th>\n",
              "      <th>Drivetrain</th>\n",
              "      <th>Vehicle Class</th>\n",
              "      <th>Fuel Type</th>\n",
              "      <th>Fuel Barrels/Year</th>\n",
              "      <th>City MPG</th>\n",
              "      <th>Highway MPG</th>\n",
              "      <th>Combined MPG</th>\n",
              "      <th>CO2 Emission Grams/Mile</th>\n",
              "      <th>Fuel Cost/Year</th>\n",
              "    </tr>\n",
              "  </thead>\n",
              "  <tbody>\n",
              "    <tr>\n",
              "      <th>0</th>\n",
              "      <td>AM General</td>\n",
              "      <td>DJ Po Vehicle 2WD</td>\n",
              "      <td>1984</td>\n",
              "      <td>2.5</td>\n",
              "      <td>4.0</td>\n",
              "      <td>Automatic 3-spd</td>\n",
              "      <td>2-Wheel Drive</td>\n",
              "      <td>Special Purpose Vehicle 2WD</td>\n",
              "      <td>Regular</td>\n",
              "      <td>19.388824</td>\n",
              "      <td>18</td>\n",
              "      <td>17</td>\n",
              "      <td>17</td>\n",
              "      <td>522.764706</td>\n",
              "      <td>1950</td>\n",
              "    </tr>\n",
              "    <tr>\n",
              "      <th>1</th>\n",
              "      <td>AM General</td>\n",
              "      <td>FJ8c Post Office</td>\n",
              "      <td>1984</td>\n",
              "      <td>4.2</td>\n",
              "      <td>6.0</td>\n",
              "      <td>Automatic 3-spd</td>\n",
              "      <td>2-Wheel Drive</td>\n",
              "      <td>Special Purpose Vehicle 2WD</td>\n",
              "      <td>Regular</td>\n",
              "      <td>25.354615</td>\n",
              "      <td>13</td>\n",
              "      <td>13</td>\n",
              "      <td>13</td>\n",
              "      <td>683.615385</td>\n",
              "      <td>2550</td>\n",
              "    </tr>\n",
              "    <tr>\n",
              "      <th>2</th>\n",
              "      <td>AM General</td>\n",
              "      <td>Post Office DJ5 2WD</td>\n",
              "      <td>1985</td>\n",
              "      <td>2.5</td>\n",
              "      <td>4.0</td>\n",
              "      <td>Automatic 3-spd</td>\n",
              "      <td>Rear-Wheel Drive</td>\n",
              "      <td>Special Purpose Vehicle 2WD</td>\n",
              "      <td>Regular</td>\n",
              "      <td>20.600625</td>\n",
              "      <td>16</td>\n",
              "      <td>17</td>\n",
              "      <td>16</td>\n",
              "      <td>555.437500</td>\n",
              "      <td>2100</td>\n",
              "    </tr>\n",
              "    <tr>\n",
              "      <th>3</th>\n",
              "      <td>AM General</td>\n",
              "      <td>Post Office DJ8 2WD</td>\n",
              "      <td>1985</td>\n",
              "      <td>4.2</td>\n",
              "      <td>6.0</td>\n",
              "      <td>Automatic 3-spd</td>\n",
              "      <td>Rear-Wheel Drive</td>\n",
              "      <td>Special Purpose Vehicle 2WD</td>\n",
              "      <td>Regular</td>\n",
              "      <td>25.354615</td>\n",
              "      <td>13</td>\n",
              "      <td>13</td>\n",
              "      <td>13</td>\n",
              "      <td>683.615385</td>\n",
              "      <td>2550</td>\n",
              "    </tr>\n",
              "    <tr>\n",
              "      <th>4</th>\n",
              "      <td>ASC Incorporated</td>\n",
              "      <td>GNX</td>\n",
              "      <td>1987</td>\n",
              "      <td>3.8</td>\n",
              "      <td>6.0</td>\n",
              "      <td>Automatic 4-spd</td>\n",
              "      <td>Rear-Wheel Drive</td>\n",
              "      <td>Midsize Cars</td>\n",
              "      <td>Premium</td>\n",
              "      <td>20.600625</td>\n",
              "      <td>14</td>\n",
              "      <td>21</td>\n",
              "      <td>16</td>\n",
              "      <td>555.437500</td>\n",
              "      <td>2550</td>\n",
              "    </tr>\n",
              "  </tbody>\n",
              "</table>\n",
              "</div>\n",
              "      <button class=\"colab-df-convert\" onclick=\"convertToInteractive('df-2df17c7f-6ffb-4b76-ad93-17b77b02de14')\"\n",
              "              title=\"Convert this dataframe to an interactive table.\"\n",
              "              style=\"display:none;\">\n",
              "\n",
              "  <svg xmlns=\"http://www.w3.org/2000/svg\" height=\"24px\"viewBox=\"0 0 24 24\"\n",
              "       width=\"24px\">\n",
              "    <path d=\"M0 0h24v24H0V0z\" fill=\"none\"/>\n",
              "    <path d=\"M18.56 5.44l.94 2.06.94-2.06 2.06-.94-2.06-.94-.94-2.06-.94 2.06-2.06.94zm-11 1L8.5 8.5l.94-2.06 2.06-.94-2.06-.94L8.5 2.5l-.94 2.06-2.06.94zm10 10l.94 2.06.94-2.06 2.06-.94-2.06-.94-.94-2.06-.94 2.06-2.06.94z\"/><path d=\"M17.41 7.96l-1.37-1.37c-.4-.4-.92-.59-1.43-.59-.52 0-1.04.2-1.43.59L10.3 9.45l-7.72 7.72c-.78.78-.78 2.05 0 2.83L4 21.41c.39.39.9.59 1.41.59.51 0 1.02-.2 1.41-.59l7.78-7.78 2.81-2.81c.8-.78.8-2.07 0-2.86zM5.41 20L4 18.59l7.72-7.72 1.47 1.35L5.41 20z\"/>\n",
              "  </svg>\n",
              "      </button>\n",
              "\n",
              "\n",
              "\n",
              "    <div id=\"df-99b2d9c0-ef87-4f88-a5e4-7c4d0ac55942\">\n",
              "      <button class=\"colab-df-quickchart\" onclick=\"quickchart('df-99b2d9c0-ef87-4f88-a5e4-7c4d0ac55942')\"\n",
              "              title=\"Suggest charts.\"\n",
              "              style=\"display:none;\">\n",
              "\n",
              "<svg xmlns=\"http://www.w3.org/2000/svg\" height=\"24px\"viewBox=\"0 0 24 24\"\n",
              "     width=\"24px\">\n",
              "    <g>\n",
              "        <path d=\"M19 3H5c-1.1 0-2 .9-2 2v14c0 1.1.9 2 2 2h14c1.1 0 2-.9 2-2V5c0-1.1-.9-2-2-2zM9 17H7v-7h2v7zm4 0h-2V7h2v10zm4 0h-2v-4h2v4z\"/>\n",
              "    </g>\n",
              "</svg>\n",
              "      </button>\n",
              "    </div>\n",
              "\n",
              "<style>\n",
              "  .colab-df-quickchart {\n",
              "    background-color: #E8F0FE;\n",
              "    border: none;\n",
              "    border-radius: 50%;\n",
              "    cursor: pointer;\n",
              "    display: none;\n",
              "    fill: #1967D2;\n",
              "    height: 32px;\n",
              "    padding: 0 0 0 0;\n",
              "    width: 32px;\n",
              "  }\n",
              "\n",
              "  .colab-df-quickchart:hover {\n",
              "    background-color: #E2EBFA;\n",
              "    box-shadow: 0px 1px 2px rgba(60, 64, 67, 0.3), 0px 1px 3px 1px rgba(60, 64, 67, 0.15);\n",
              "    fill: #174EA6;\n",
              "  }\n",
              "\n",
              "  [theme=dark] .colab-df-quickchart {\n",
              "    background-color: #3B4455;\n",
              "    fill: #D2E3FC;\n",
              "  }\n",
              "\n",
              "  [theme=dark] .colab-df-quickchart:hover {\n",
              "    background-color: #434B5C;\n",
              "    box-shadow: 0px 1px 3px 1px rgba(0, 0, 0, 0.15);\n",
              "    filter: drop-shadow(0px 1px 2px rgba(0, 0, 0, 0.3));\n",
              "    fill: #FFFFFF;\n",
              "  }\n",
              "</style>\n",
              "\n",
              "    <script>\n",
              "      async function quickchart(key) {\n",
              "        const containerElement = document.querySelector('#' + key);\n",
              "        const charts = await google.colab.kernel.invokeFunction(\n",
              "            'suggestCharts', [key], {});\n",
              "      }\n",
              "    </script>\n",
              "\n",
              "      <script>\n",
              "\n",
              "function displayQuickchartButton(domScope) {\n",
              "  let quickchartButtonEl =\n",
              "    domScope.querySelector('#df-99b2d9c0-ef87-4f88-a5e4-7c4d0ac55942 button.colab-df-quickchart');\n",
              "  quickchartButtonEl.style.display =\n",
              "    google.colab.kernel.accessAllowed ? 'block' : 'none';\n",
              "}\n",
              "\n",
              "        displayQuickchartButton(document);\n",
              "      </script>\n",
              "      <style>\n",
              "    .colab-df-container {\n",
              "      display:flex;\n",
              "      flex-wrap:wrap;\n",
              "      gap: 12px;\n",
              "    }\n",
              "\n",
              "    .colab-df-convert {\n",
              "      background-color: #E8F0FE;\n",
              "      border: none;\n",
              "      border-radius: 50%;\n",
              "      cursor: pointer;\n",
              "      display: none;\n",
              "      fill: #1967D2;\n",
              "      height: 32px;\n",
              "      padding: 0 0 0 0;\n",
              "      width: 32px;\n",
              "    }\n",
              "\n",
              "    .colab-df-convert:hover {\n",
              "      background-color: #E2EBFA;\n",
              "      box-shadow: 0px 1px 2px rgba(60, 64, 67, 0.3), 0px 1px 3px 1px rgba(60, 64, 67, 0.15);\n",
              "      fill: #174EA6;\n",
              "    }\n",
              "\n",
              "    [theme=dark] .colab-df-convert {\n",
              "      background-color: #3B4455;\n",
              "      fill: #D2E3FC;\n",
              "    }\n",
              "\n",
              "    [theme=dark] .colab-df-convert:hover {\n",
              "      background-color: #434B5C;\n",
              "      box-shadow: 0px 1px 3px 1px rgba(0, 0, 0, 0.15);\n",
              "      filter: drop-shadow(0px 1px 2px rgba(0, 0, 0, 0.3));\n",
              "      fill: #FFFFFF;\n",
              "    }\n",
              "  </style>\n",
              "\n",
              "      <script>\n",
              "        const buttonEl =\n",
              "          document.querySelector('#df-2df17c7f-6ffb-4b76-ad93-17b77b02de14 button.colab-df-convert');\n",
              "        buttonEl.style.display =\n",
              "          google.colab.kernel.accessAllowed ? 'block' : 'none';\n",
              "\n",
              "        async function convertToInteractive(key) {\n",
              "          const element = document.querySelector('#df-2df17c7f-6ffb-4b76-ad93-17b77b02de14');\n",
              "          const dataTable =\n",
              "            await google.colab.kernel.invokeFunction('convertToInteractive',\n",
              "                                                     [key], {});\n",
              "          if (!dataTable) return;\n",
              "\n",
              "          const docLinkHtml = 'Like what you see? Visit the ' +\n",
              "            '<a target=\"_blank\" href=https://colab.research.google.com/notebooks/data_table.ipynb>data table notebook</a>'\n",
              "            + ' to learn more about interactive tables.';\n",
              "          element.innerHTML = '';\n",
              "          dataTable['output_type'] = 'display_data';\n",
              "          await google.colab.output.renderOutput(dataTable, element);\n",
              "          const docLink = document.createElement('div');\n",
              "          docLink.innerHTML = docLinkHtml;\n",
              "          element.appendChild(docLink);\n",
              "        }\n",
              "      </script>\n",
              "    </div>\n",
              "  </div>\n"
            ]
          },
          "metadata": {},
          "execution_count": 4
        }
      ]
    },
    {
      "cell_type": "code",
      "source": [
        "df.info()"
      ],
      "metadata": {
        "id": "LutcGEx8v4GY",
        "colab": {
          "base_uri": "https://localhost:8080/"
        },
        "outputId": "4f3f1c96-8b89-473c-f217-fd3c8bec982a"
      },
      "execution_count": 5,
      "outputs": [
        {
          "output_type": "stream",
          "name": "stdout",
          "text": [
            "<class 'pandas.core.frame.DataFrame'>\n",
            "RangeIndex: 35952 entries, 0 to 35951\n",
            "Data columns (total 15 columns):\n",
            " #   Column                   Non-Null Count  Dtype  \n",
            "---  ------                   --------------  -----  \n",
            " 0   Make                     35952 non-null  object \n",
            " 1   Model                    35952 non-null  object \n",
            " 2   Year                     35952 non-null  int64  \n",
            " 3   Engine Displacement      35952 non-null  float64\n",
            " 4   Cylinders                35952 non-null  float64\n",
            " 5   Transmission             35952 non-null  object \n",
            " 6   Drivetrain               35952 non-null  object \n",
            " 7   Vehicle Class            35952 non-null  object \n",
            " 8   Fuel Type                35952 non-null  object \n",
            " 9   Fuel Barrels/Year        35952 non-null  float64\n",
            " 10  City MPG                 35952 non-null  int64  \n",
            " 11  Highway MPG              35952 non-null  int64  \n",
            " 12  Combined MPG             35952 non-null  int64  \n",
            " 13  CO2 Emission Grams/Mile  35952 non-null  float64\n",
            " 14  Fuel Cost/Year           35952 non-null  int64  \n",
            "dtypes: float64(4), int64(5), object(6)\n",
            "memory usage: 4.1+ MB\n"
          ]
        }
      ]
    },
    {
      "cell_type": "markdown",
      "source": [
        "##Q1. What is the average CO2 emmission per gram/mile of all Volkswagen cars?\n",
        "\n",
        "##### Format: A floating number\n",
        "##### Example answer:\n",
        " `11.547`"
      ],
      "metadata": {
        "id": "kLRp8K_wnEJG"
      }
    },
    {
      "cell_type": "code",
      "source": [
        "########## Q1\n",
        "average_emm = df[\"CO2 Emission Grams/Mile\"].mean()\n",
        "print(average_emm)\n",
        "\n",
        "#Example answer:\n",
        "answer_dict[\"Q1\"] = 475.3163392572124"
      ],
      "metadata": {
        "id": "jBGXf7RRnEoV",
        "outputId": "a1643489-becd-44c2-9238-a54fcb4ddabb",
        "colab": {
          "base_uri": "https://localhost:8080/"
        }
      },
      "execution_count": 6,
      "outputs": [
        {
          "output_type": "stream",
          "name": "stdout",
          "text": [
            "475.3163392572124\n"
          ]
        }
      ]
    },
    {
      "cell_type": "markdown",
      "source": [
        "##Q2. Calculate the top 5 brands(Make) with the most unique models, order your answer in descending order with respect to the number of unique models.\n",
        "##### **NOTE:** Consider only the name of the models and their brand, that is use only the Make and Model columns\n",
        "##### Format: A 5X2 list with each row being the name of the brand followed by the unique number of models, in descending order.\n",
        "#####Hint: You can use the pandas [df.values.tolist()](https://pandas.pydata.org/docs/reference/api/pandas.Series.tolist.html) function to format your answer.\n",
        "\n",
        "##### Example answer:\n",
        "`[[\"Volkswagen\", 1000], [\"Toyota\", 900], [\"Honda\", 800], [\"Subaru\", 700], [\"Ford\", 600]]`"
      ],
      "metadata": {
        "id": "SPNq7yn74kjd"
      }
    },
    {
      "cell_type": "code",
      "source": [
        "########## Q2\n",
        "udf = df[[\"Make\", \"Model\"]]\n",
        "top_5_brands = []\n",
        "for brand, df_brand in udf.groupby(\"Make\"):\n",
        " num_unique_models = len(set(df_brand[\"Model\"]))\n",
        " top_5_brands.append([brand, num_unique_models])\n",
        "\n",
        "top_5_brands.sort(key=lambda x: x[1], reverse=True)\n",
        "\n",
        "top_5_brands = [list(x) for x in top_5_brands[:5]]\n",
        "\n",
        "print(top_5_brands)\n",
        "\n",
        "#Example answer:\n",
        "answer_dict[\"Q2\"] = [['Mercedes-Benz', 333], ['BMW', 284], ['Chevrolet', 253], ['Ford', 185], ['GMC', 163]]"
      ],
      "metadata": {
        "id": "StipyFue4Dx-",
        "outputId": "f3a5e03c-2cb6-445d-8c39-fab3360614ec",
        "colab": {
          "base_uri": "https://localhost:8080/"
        }
      },
      "execution_count": 7,
      "outputs": [
        {
          "output_type": "stream",
          "name": "stdout",
          "text": [
            "[['Mercedes-Benz', 333], ['BMW', 284], ['Chevrolet', 253], ['Ford', 185], ['GMC', 163]]\n"
          ]
        }
      ]
    },
    {
      "cell_type": "markdown",
      "source": [
        "##Q3. What are all the different types of fuels in the dataset sorted alphabetically?\n",
        "##### Format: A list of strings sorted alphabetically.\n",
        "##### Example Answer:\n",
        "`['Regular',\n",
        " 'Premium']`"
      ],
      "metadata": {
        "id": "EGxv7N15AiLu"
      }
    },
    {
      "cell_type": "code",
      "source": [
        "########## Q3\n",
        "df = pd.read_csv(\"https://storage.googleapis.com/deb-evaluation-materials/vehicles.csv\")\n",
        "\n",
        "fuel_types = sorted(set(df[\"Fuel Type\"]))\n",
        "\n",
        "print(fuel_types)\n",
        "#Example answer:\n",
        "answer_dict[\"Q3\"] =  ['CNG', 'Diesel', 'Gasoline or E85', 'Gasoline or natural gas', 'Gasoline or propane', 'Midgrade', 'Premium', 'Premium Gas or Electricity', 'Premium and Electricity', 'Premium or E85', 'Regular', 'Regular Gas and Electricity', 'Regular Gas or Electricity']\n"
      ],
      "metadata": {
        "id": "otyDsWpsAjde",
        "outputId": "fedffd35-b192-4639-f17e-83d32a846837",
        "colab": {
          "base_uri": "https://localhost:8080/"
        }
      },
      "execution_count": 8,
      "outputs": [
        {
          "output_type": "stream",
          "name": "stdout",
          "text": [
            "['CNG', 'Diesel', 'Gasoline or E85', 'Gasoline or natural gas', 'Gasoline or propane', 'Midgrade', 'Premium', 'Premium Gas or Electricity', 'Premium and Electricity', 'Premium or E85', 'Regular', 'Regular Gas and Electricity', 'Regular Gas or Electricity']\n"
          ]
        }
      ]
    },
    {
      "cell_type": "markdown",
      "source": [
        "##Q4. Show the 9 Toyota cars with the most extreme Fuel Barrels/Year in abosolute terms within all Toyota cars. Show the car Model, Year and their Fuel Barrels/Year in standard deviation units([Z-score](https://fredclavel.org/2019/03/18/basics-standardization-and-the-z-score/)) **sorted** in descending order by their Fuel Barrels/Year in absolute terms first and then by year in descending order **BUT** without modifying the negative values (see example).\n",
        "\n",
        "##### Format: A 9X3 list with each row containing the Model, Year and Fuel Barrels/Year in standard deviations units\n",
        "\n",
        "##### Example answer:\n",
        "```\n",
        "[['DJ Po Vehicle 2WD', 2004, -6.407431084026927],\n",
        " ['FJ8c Post Office', 2003, -6.407431084026927],\n",
        " ['Post Office DJ5 2WD', 2005, -6.391684618442447],\n",
        " ['Sierra 2500 Hd 2WD', 2002, -6.391684618442447],\n",
        " ['Camry CNG', 2012, 2.677633075759575],\n",
        " ['Sierra 1500 4WD', 2005, 2.677633075759575],\n",
        " ['Sierra 1500 4WD', 2001, 2.677633075759575],\n",
        " ['V15 Suburban 4WD', 1988, 2.677633075759575],\n",
        " ['V15 Suburban 4WD', 1987, 2.677633075759575]]\n",
        "```\n",
        "#####Note that while the list is sorted by the Fuel Barrels/Year in absolute terms and in standard deviation units, the values are not modified. If the values are the same the rows are sorted by the year.\n"
      ],
      "metadata": {
        "id": "ijpZht03tV5W"
      }
    },
    {
      "cell_type": "code",
      "source": [
        "df = pd.read_csv(\"https://storage.googleapis.com/deb-evaluation-materials/vehicles.csv\")\n",
        "\n",
        "toyota_df = df.loc[df[\"Make\"] == \"Toyota\"]\n",
        "\n",
        "toyota_df[\"FuelBarrelsYear_z\"] = toyota_df[\"Fuel Barrels/Year\"] / toyota_df[\"Fuel Barrels/Year\"].std()\n",
        "\n",
        "toyota_df[\"FuelBarrelsYear_z\"] = abs(toyota_df[\"FuelBarrelsYear_z\"])\n",
        "\n",
        "toyota_df = toyota_df.loc[\n",
        "    :, [\"FuelBarrelsYear_z\", \"Year\"]\n",
        "].sort_values(by=[\"FuelBarrelsYear_z\", \"Year\"], ascending=False)\n",
        "\n",
        "toyota_df_list = toyota_df.values.tolist()\n",
        "\n",
        "print(toyota_df_list)"
      ],
      "metadata": {
        "id": "ClsyjytNiFaH",
        "outputId": "8199f917-1825-40cf-d9fc-e94081c0f0fd",
        "colab": {
          "base_uri": "https://localhost:8080/"
        }
      },
      "execution_count": 9,
      "outputs": [
        {
          "output_type": "stream",
          "name": "stdout",
          "text": [
            "[[8.06458401868572, 1993.0], [8.06458401868572, 1992.0], [8.06458401868572, 1991.0], [8.06458401868572, 1990.0], [8.06458401868572, 1989.0], [7.331440016987019, 1993.0], [7.331440016987019, 1992.0], [7.331440016987019, 1992.0], [7.331440016987019, 1991.0], [7.331440016987019, 1990.0], [7.331440016987019, 1987.0], [7.331440016987019, 1986.0], [7.331440016987019, 1985.0], [7.331440016987019, 1984.0], [6.7204866822381, 1994.0], [6.7204866822381, 1993.0], [6.7204866822381, 1991.0], [6.7204866822381, 1990.0], [6.7204866822381, 1989.0], [6.7204866822381, 1989.0], [6.7204866822381, 1988.0], [6.7204866822381, 1988.0], [6.7204866822381, 1987.0], [6.7204866822381, 1986.0], [6.203526168219785, 2007.0], [6.203526168219785, 2006.0], [6.203526168219785, 2005.0], [6.203526168219785, 2004.0], [6.203526168219785, 2003.0], [6.203526168219785, 2002.0], [6.203526168219785, 2001.0], [6.203526168219785, 2000.0], [6.203526168219785, 1999.0], [6.203526168219785, 1997.0], [6.203526168219785, 1996.0], [6.203526168219785, 1995.0], [6.203526168219785, 1995.0], [6.203526168219785, 1994.0], [6.203526168219785, 1994.0], [6.203526168219785, 1993.0], [6.203526168219785, 1993.0], [6.203526168219785, 1993.0], [6.203526168219785, 1992.0], [6.203526168219785, 1992.0], [5.760417156204085, 2016.0], [5.760417156204085, 2016.0], [5.760417156204085, 2015.0], [5.760417156204085, 2015.0], [5.760417156204085, 2014.0], [5.760417156204085, 2014.0], [5.760417156204085, 2013.0], [5.760417156204085, 2013.0], [5.760417156204085, 2012.0], [5.760417156204085, 2012.0], [5.760417156204085, 2011.0], [5.760417156204085, 2011.0], [5.760417156204085, 2010.0], [5.760417156204085, 2010.0], [5.760417156204085, 2009.0], [5.760417156204085, 2009.0], [5.760417156204085, 2009.0], [5.760417156204085, 2008.0], [5.760417156204085, 2008.0], [5.760417156204085, 2007.0], [5.760417156204085, 2006.0], [5.760417156204085, 2004.0], [5.760417156204085, 2004.0], [5.760417156204085, 2004.0], [5.760417156204085, 2004.0], [5.760417156204085, 2003.0], [5.760417156204085, 2003.0], [5.760417156204085, 2003.0], [5.760417156204085, 2002.0], [5.760417156204085, 2002.0], [5.760417156204085, 2002.0], [5.760417156204085, 2001.0], [5.760417156204085, 2001.0], [5.760417156204085, 2001.0], [5.760417156204085, 2000.0], [5.760417156204085, 1998.0], [5.760417156204085, 1995.0], [5.760417156204085, 1995.0], [5.760417156204085, 1994.0], [5.760417156204085, 1994.0], [5.760417156204085, 1993.0], [5.760417156204085, 1993.0], [5.760417156204085, 1992.0], [5.760417156204085, 1991.0], [5.760417156204085, 1988.0], [5.760417156204085, 1986.0], [5.760417156204085, 1985.0], [5.3763893457904794, 2017.0], [5.3763893457904794, 2017.0], [5.3763893457904794, 2017.0], [5.3763893457904794, 2017.0], [5.3763893457904794, 2017.0], [5.3763893457904794, 2016.0], [5.3763893457904794, 2016.0], [5.3763893457904794, 2016.0], [5.3763893457904794, 2016.0], [5.3763893457904794, 2016.0], [5.3763893457904794, 2016.0], [5.3763893457904794, 2015.0], [5.3763893457904794, 2015.0], [5.3763893457904794, 2015.0], [5.3763893457904794, 2015.0], [5.3763893457904794, 2015.0], [5.3763893457904794, 2014.0], [5.3763893457904794, 2014.0], [5.3763893457904794, 2014.0], [5.3763893457904794, 2014.0], [5.3763893457904794, 2014.0], [5.3763893457904794, 2013.0], [5.3763893457904794, 2013.0], [5.3763893457904794, 2013.0], [5.3763893457904794, 2013.0], [5.3763893457904794, 2013.0], [5.3763893457904794, 2012.0], [5.3763893457904794, 2012.0], [5.3763893457904794, 2012.0], [5.3763893457904794, 2012.0], [5.3763893457904794, 2012.0], [5.3763893457904794, 2011.0], [5.3763893457904794, 2011.0], [5.3763893457904794, 2011.0], [5.3763893457904794, 2011.0], [5.3763893457904794, 2011.0], [5.3763893457904794, 2011.0], [5.3763893457904794, 2010.0], [5.3763893457904794, 2010.0], [5.3763893457904794, 2010.0], [5.3763893457904794, 2010.0], [5.3763893457904794, 2010.0], [5.3763893457904794, 2010.0], [5.3763893457904794, 2009.0], [5.3763893457904794, 2009.0], [5.3763893457904794, 2009.0], [5.3763893457904794, 2009.0], [5.3763893457904794, 2009.0], [5.3763893457904794, 2009.0], [5.3763893457904794, 2009.0], [5.3763893457904794, 2009.0], [5.3763893457904794, 2008.0], [5.3763893457904794, 2008.0], [5.3763893457904794, 2008.0], [5.3763893457904794, 2008.0], [5.3763893457904794, 2008.0], [5.3763893457904794, 2008.0], [5.3763893457904794, 2008.0], [5.3763893457904794, 2007.0], [5.3763893457904794, 2007.0], [5.3763893457904794, 2007.0], [5.3763893457904794, 2007.0], [5.3763893457904794, 2006.0], [5.3763893457904794, 2006.0], [5.3763893457904794, 2006.0], [5.3763893457904794, 2005.0], [5.3763893457904794, 2005.0], [5.3763893457904794, 2005.0], [5.3763893457904794, 2005.0], [5.3763893457904794, 2004.0], [5.3763893457904794, 2004.0], [5.3763893457904794, 2003.0], [5.3763893457904794, 2003.0], [5.3763893457904794, 2003.0], [5.3763893457904794, 2002.0], [5.3763893457904794, 2002.0], [5.3763893457904794, 2002.0], [5.3763893457904794, 2001.0], [5.3763893457904794, 2001.0], [5.3763893457904794, 2001.0], [5.3763893457904794, 2000.0], [5.3763893457904794, 2000.0], [5.3763893457904794, 2000.0], [5.3763893457904794, 1998.0], [5.3763893457904794, 1997.0], [5.3763893457904794, 1996.0], [5.3763893457904794, 1995.0], [5.3763893457904794, 1995.0], [5.3763893457904794, 1994.0], [5.3763893457904794, 1994.0], [5.3763893457904794, 1993.0], [5.3763893457904794, 1993.0], [5.3763893457904794, 1992.0], [5.3763893457904794, 1991.0], [5.3763893457904794, 1991.0], [5.3763893457904794, 1991.0], [5.3763893457904794, 1990.0], [5.3763893457904794, 1990.0], [5.3763893457904794, 1990.0], [5.3763893457904794, 1989.0], [5.3763893457904794, 1989.0], [5.3763893457904794, 1988.0], [5.3763893457904794, 1988.0], [5.3763893457904794, 1987.0], [5.3763893457904794, 1985.0], [5.3763893457904794, 1984.0], [5.040365011678575, 2017.0], [5.040365011678575, 2017.0], [5.040365011678575, 2016.0], [5.040365011678575, 2016.0], [5.040365011678575, 2015.0], [5.040365011678575, 2015.0], [5.040365011678575, 2014.0], [5.040365011678575, 2014.0], [5.040365011678575, 2014.0], [5.040365011678575, 2013.0], [5.040365011678575, 2013.0], [5.040365011678575, 2012.0], [5.040365011678575, 2012.0], [5.040365011678575, 2012.0], [5.040365011678575, 2011.0], [5.040365011678575, 2011.0], [5.040365011678575, 2011.0], [5.040365011678575, 2010.0], [5.040365011678575, 2010.0], [5.040365011678575, 2010.0], [5.040365011678575, 2010.0], [5.040365011678575, 2010.0], [5.040365011678575, 2009.0], [5.040365011678575, 2009.0], [5.040365011678575, 2009.0], [5.040365011678575, 2009.0], [5.040365011678575, 2008.0], [5.040365011678575, 2008.0], [5.040365011678575, 2008.0], [5.040365011678575, 2007.0], [5.040365011678575, 2007.0], [5.040365011678575, 2007.0], [5.040365011678575, 2007.0], [5.040365011678575, 2006.0], [5.040365011678575, 2006.0], [5.040365011678575, 2006.0], [5.040365011678575, 2006.0], [5.040365011678575, 2006.0], [5.040365011678575, 2005.0], [5.040365011678575, 2005.0], [5.040365011678575, 2005.0], [5.040365011678575, 2005.0], [5.040365011678575, 2005.0], [5.040365011678575, 2004.0], [5.040365011678575, 2004.0], [5.040365011678575, 2004.0], [5.040365011678575, 2004.0], [5.040365011678575, 2004.0], [5.040365011678575, 2004.0], [5.040365011678575, 2004.0], [5.040365011678575, 2003.0], [5.040365011678575, 2003.0], [5.040365011678575, 2003.0], [5.040365011678575, 2003.0], [5.040365011678575, 2003.0], [5.040365011678575, 2003.0], [5.040365011678575, 2003.0], [5.040365011678575, 2002.0], [5.040365011678575, 2002.0], [5.040365011678575, 2002.0], [5.040365011678575, 2002.0], [5.040365011678575, 2002.0], [5.040365011678575, 2002.0], [5.040365011678575, 2002.0], [5.040365011678575, 2001.0], [5.040365011678575, 2001.0], [5.040365011678575, 2001.0], [5.040365011678575, 2001.0], [5.040365011678575, 2000.0], [5.040365011678575, 2000.0], [5.040365011678575, 2000.0], [5.040365011678575, 2000.0], [5.040365011678575, 2000.0], [5.040365011678575, 2000.0], [5.040365011678575, 1999.0], [5.040365011678575, 1999.0], [5.040365011678575, 1999.0], [5.040365011678575, 1998.0], [5.040365011678575, 1998.0], [5.040365011678575, 1998.0], [5.040365011678575, 1998.0], [5.040365011678575, 1998.0], [5.040365011678575, 1997.0], [5.040365011678575, 1997.0], [5.040365011678575, 1997.0], [5.040365011678575, 1997.0], [5.040365011678575, 1997.0], [5.040365011678575, 1997.0], [5.040365011678575, 1997.0], [5.040365011678575, 1996.0], [5.040365011678575, 1996.0], [5.040365011678575, 1996.0], [5.040365011678575, 1996.0], [5.040365011678575, 1996.0], [5.040365011678575, 1995.0], [5.040365011678575, 1995.0], [5.040365011678575, 1995.0], [5.040365011678575, 1994.0], [5.040365011678575, 1994.0], [5.040365011678575, 1994.0], [5.040365011678575, 1993.0], [5.040365011678575, 1993.0], [5.040365011678575, 1990.0], [5.040365011678575, 1990.0], [5.040365011678575, 1990.0], [5.040365011678575, 1989.0], [5.040365011678575, 1989.0], [5.040365011678575, 1988.0], [5.040365011678575, 1988.0], [5.040365011678575, 1988.0], [5.040365011678575, 1987.0], [5.040365011678575, 1986.0], [4.74387295216807, 2015.0], [4.74387295216807, 2014.0], [4.74387295216807, 2014.0], [4.74387295216807, 2013.0], [4.74387295216807, 2013.0], [4.74387295216807, 2013.0], [4.74387295216807, 2012.0], [4.74387295216807, 2012.0], [4.74387295216807, 2011.0], [4.74387295216807, 2011.0], [4.74387295216807, 2011.0], [4.74387295216807, 2010.0], [4.74387295216807, 2010.0], [4.74387295216807, 2009.0], [4.74387295216807, 2009.0], [4.74387295216807, 2009.0], [4.74387295216807, 2009.0], [4.74387295216807, 2008.0], [4.74387295216807, 2008.0], [4.74387295216807, 2008.0], [4.74387295216807, 2008.0], [4.74387295216807, 2008.0], [4.74387295216807, 2007.0], [4.74387295216807, 2007.0], [4.74387295216807, 2007.0], [4.74387295216807, 2007.0], [4.74387295216807, 2007.0], [4.74387295216807, 2007.0], [4.74387295216807, 2006.0], [4.74387295216807, 2006.0], [4.74387295216807, 2006.0], [4.74387295216807, 2005.0], [4.74387295216807, 2005.0], [4.74387295216807, 2004.0], [4.74387295216807, 2004.0], [4.74387295216807, 2003.0], [4.74387295216807, 2003.0], [4.74387295216807, 2002.0], [4.74387295216807, 2001.0], [4.74387295216807, 2001.0], [4.74387295216807, 2001.0], [4.74387295216807, 2000.0], [4.74387295216807, 2000.0], [4.74387295216807, 2000.0], [4.74387295216807, 2000.0], [4.74387295216807, 1999.0], [4.74387295216807, 1999.0], [4.74387295216807, 1999.0], [4.74387295216807, 1999.0], [4.74387295216807, 1999.0], [4.74387295216807, 1999.0], [4.74387295216807, 1998.0], [4.74387295216807, 1998.0], [4.74387295216807, 1998.0], [4.74387295216807, 1998.0], [4.74387295216807, 1998.0], [4.74387295216807, 1997.0], [4.74387295216807, 1997.0], [4.74387295216807, 1997.0], [4.74387295216807, 1997.0], [4.74387295216807, 1996.0], [4.74387295216807, 1996.0], [4.74387295216807, 1996.0], [4.74387295216807, 1996.0], [4.74387295216807, 1996.0], [4.74387295216807, 1996.0], [4.74387295216807, 1995.0], [4.74387295216807, 1995.0], [4.74387295216807, 1995.0], [4.74387295216807, 1995.0], [4.74387295216807, 1995.0], [4.74387295216807, 1995.0], [4.74387295216807, 1994.0], [4.74387295216807, 1994.0], [4.74387295216807, 1994.0], [4.74387295216807, 1994.0], [4.74387295216807, 1993.0], [4.74387295216807, 1993.0], [4.74387295216807, 1993.0], [4.74387295216807, 1993.0], [4.74387295216807, 1993.0], [4.74387295216807, 1993.0], [4.74387295216807, 1993.0], [4.74387295216807, 1992.0], [4.74387295216807, 1992.0], [4.74387295216807, 1992.0], [4.74387295216807, 1992.0], [4.74387295216807, 1992.0], [4.74387295216807, 1992.0], [4.74387295216807, 1991.0], [4.74387295216807, 1991.0], [4.74387295216807, 1991.0], [4.74387295216807, 1991.0], [4.74387295216807, 1991.0], [4.74387295216807, 1990.0], [4.74387295216807, 1990.0], [4.74387295216807, 1989.0], [4.74387295216807, 1989.0], [4.74387295216807, 1989.0], [4.74387295216807, 1988.0], [4.74387295216807, 1986.0], [4.74387295216807, 1986.0], [4.74387295216807, 1984.0], [4.74387295216807, 1984.0], [4.4803244548254, 2017.0], [4.4803244548254, 2017.0], [4.4803244548254, 2016.0], [4.4803244548254, 2016.0], [4.4803244548254, 2016.0], [4.4803244548254, 2015.0], [4.4803244548254, 2015.0], [4.4803244548254, 2015.0], [4.4803244548254, 2015.0], [4.4803244548254, 2014.0], [4.4803244548254, 2014.0], [4.4803244548254, 2014.0], [4.4803244548254, 2014.0], [4.4803244548254, 2014.0], [4.4803244548254, 2014.0], [4.4803244548254, 2013.0], [4.4803244548254, 2013.0], [4.4803244548254, 2013.0], [4.4803244548254, 2013.0], [4.4803244548254, 2013.0], [4.4803244548254, 2013.0], [4.4803244548254, 2012.0], [4.4803244548254, 2012.0], [4.4803244548254, 2012.0], [4.4803244548254, 2012.0], [4.4803244548254, 2011.0], [4.4803244548254, 2011.0], [4.4803244548254, 2011.0], [4.4803244548254, 2011.0], [4.4803244548254, 2010.0], [4.4803244548254, 2010.0], [4.4803244548254, 2010.0], [4.4803244548254, 2010.0], [4.4803244548254, 2009.0], [4.4803244548254, 2009.0], [4.4803244548254, 2009.0], [4.4803244548254, 2009.0], [4.4803244548254, 2009.0], [4.4803244548254, 2008.0], [4.4803244548254, 2008.0], [4.4803244548254, 2008.0], [4.4803244548254, 2008.0], [4.4803244548254, 2008.0], [4.4803244548254, 2007.0], [4.4803244548254, 2007.0], [4.4803244548254, 2007.0], [4.4803244548254, 2007.0], [4.4803244548254, 2006.0], [4.4803244548254, 2006.0], [4.4803244548254, 2006.0], [4.4803244548254, 2006.0], [4.4803244548254, 2005.0], [4.4803244548254, 2005.0], [4.4803244548254, 2005.0], [4.4803244548254, 2005.0], [4.4803244548254, 2005.0], [4.4803244548254, 2004.0], [4.4803244548254, 2004.0], [4.4803244548254, 2004.0], [4.4803244548254, 2004.0], [4.4803244548254, 2003.0], [4.4803244548254, 2003.0], [4.4803244548254, 2003.0], [4.4803244548254, 2003.0], [4.4803244548254, 2003.0], [4.4803244548254, 2002.0], [4.4803244548254, 2002.0], [4.4803244548254, 2002.0], [4.4803244548254, 2002.0], [4.4803244548254, 2002.0], [4.4803244548254, 2001.0], [4.4803244548254, 2001.0], [4.4803244548254, 2001.0], [4.4803244548254, 2001.0], [4.4803244548254, 2001.0], [4.4803244548254, 2001.0], [4.4803244548254, 2000.0], [4.4803244548254, 2000.0], [4.4803244548254, 2000.0], [4.4803244548254, 2000.0], [4.4803244548254, 1999.0], [4.4803244548254, 1999.0], [4.4803244548254, 1999.0], [4.4803244548254, 1998.0], [4.4803244548254, 1998.0], [4.4803244548254, 1998.0], [4.4803244548254, 1998.0], [4.4803244548254, 1998.0], [4.4803244548254, 1997.0], [4.4803244548254, 1997.0], [4.4803244548254, 1997.0], [4.4803244548254, 1997.0], [4.4803244548254, 1997.0], [4.4803244548254, 1997.0], [4.4803244548254, 1997.0], [4.4803244548254, 1997.0], [4.4803244548254, 1997.0], [4.4803244548254, 1997.0], [4.4803244548254, 1996.0], [4.4803244548254, 1996.0], [4.4803244548254, 1996.0], [4.4803244548254, 1996.0], [4.4803244548254, 1996.0], [4.4803244548254, 1996.0], [4.4803244548254, 1996.0], [4.4803244548254, 1996.0], [4.4803244548254, 1995.0], [4.4803244548254, 1995.0], [4.4803244548254, 1995.0], [4.4803244548254, 1995.0], [4.4803244548254, 1995.0], [4.4803244548254, 1995.0], [4.4803244548254, 1995.0], [4.4803244548254, 1995.0], [4.4803244548254, 1995.0], [4.4803244548254, 1995.0], [4.4803244548254, 1995.0], [4.4803244548254, 1995.0], [4.4803244548254, 1994.0], [4.4803244548254, 1994.0], [4.4803244548254, 1994.0], [4.4803244548254, 1994.0], [4.4803244548254, 1994.0], [4.4803244548254, 1994.0], [4.4803244548254, 1994.0], [4.4803244548254, 1994.0], [4.4803244548254, 1993.0], [4.4803244548254, 1993.0], [4.4803244548254, 1993.0], [4.4803244548254, 1993.0], [4.4803244548254, 1993.0], [4.4803244548254, 1993.0], [4.4803244548254, 1993.0], [4.4803244548254, 1993.0], [4.4803244548254, 1993.0], [4.4803244548254, 1992.0], [4.4803244548254, 1992.0], [4.4803244548254, 1992.0], [4.4803244548254, 1992.0], [4.4803244548254, 1992.0], [4.4803244548254, 1992.0], [4.4803244548254, 1992.0], [4.4803244548254, 1992.0], [4.4803244548254, 1992.0], [4.4803244548254, 1992.0], [4.4803244548254, 1991.0], [4.4803244548254, 1991.0], [4.4803244548254, 1991.0], [4.4803244548254, 1991.0], [4.4803244548254, 1991.0], [4.4803244548254, 1991.0], [4.4803244548254, 1991.0], [4.4803244548254, 1991.0], [4.4803244548254, 1991.0], [4.4803244548254, 1991.0], [4.4803244548254, 1991.0], [4.4803244548254, 1991.0], [4.4803244548254, 1990.0], [4.4803244548254, 1990.0], [4.4803244548254, 1990.0], [4.4803244548254, 1990.0], [4.4803244548254, 1990.0], [4.4803244548254, 1989.0], [4.4803244548254, 1989.0], [4.4803244548254, 1989.0], [4.4803244548254, 1989.0], [4.4803244548254, 1989.0], [4.4803244548254, 1989.0], [4.4803244548254, 1988.0], [4.4803244548254, 1988.0], [4.4803244548254, 1988.0], [4.4803244548254, 1988.0], [4.4803244548254, 1988.0], [4.4803244548254, 1988.0], [4.4803244548254, 1987.0], [4.4803244548254, 1987.0], [4.4803244548254, 1987.0], [4.4803244548254, 1987.0], [4.4803244548254, 1987.0], [4.4803244548254, 1987.0], [4.4803244548254, 1987.0], [4.4803244548254, 1987.0], [4.4803244548254, 1987.0], [4.4803244548254, 1987.0], [4.4803244548254, 1986.0], [4.4803244548254, 1986.0], [4.4803244548254, 1986.0], [4.4803244548254, 1986.0], [4.4803244548254, 1986.0], [4.4803244548254, 1986.0], [4.4803244548254, 1986.0], [4.4803244548254, 1985.0], [4.4803244548254, 1984.0], [4.4803244548254, 1984.0], [4.244517904571432, 2016.0], [4.244517904571432, 2016.0], [4.244517904571432, 2016.0], [4.244517904571432, 2015.0], [4.244517904571432, 2015.0], [4.244517904571432, 2015.0], [4.244517904571432, 2015.0], [4.244517904571432, 2015.0], [4.244517904571432, 2014.0], [4.244517904571432, 2014.0], [4.244517904571432, 2014.0], [4.244517904571432, 2014.0], [4.244517904571432, 2014.0], [4.244517904571432, 2013.0], [4.244517904571432, 2013.0], [4.244517904571432, 2013.0], [4.244517904571432, 2013.0], [4.244517904571432, 2013.0], [4.244517904571432, 2013.0], [4.244517904571432, 2012.0], [4.244517904571432, 2012.0], [4.244517904571432, 2012.0], [4.244517904571432, 2012.0], [4.244517904571432, 2012.0], [4.244517904571432, 2012.0], [4.244517904571432, 2012.0], [4.244517904571432, 2012.0], [4.244517904571432, 2012.0], [4.244517904571432, 2011.0], [4.244517904571432, 2011.0], [4.244517904571432, 2011.0], [4.244517904571432, 2011.0], [4.244517904571432, 2011.0], [4.244517904571432, 2011.0], [4.244517904571432, 2011.0], [4.244517904571432, 2011.0], [4.244517904571432, 2011.0], [4.244517904571432, 2010.0], [4.244517904571432, 2010.0], [4.244517904571432, 2010.0], [4.244517904571432, 2010.0], [4.244517904571432, 2010.0], [4.244517904571432, 2010.0], [4.244517904571432, 2010.0], [4.244517904571432, 2009.0], [4.244517904571432, 2009.0], [4.244517904571432, 2009.0], [4.244517904571432, 2008.0], [4.244517904571432, 2008.0], [4.244517904571432, 2008.0], [4.244517904571432, 2007.0], [4.244517904571432, 2007.0], [4.244517904571432, 2007.0], [4.244517904571432, 2007.0], [4.244517904571432, 2006.0], [4.244517904571432, 2006.0], [4.244517904571432, 2006.0], [4.244517904571432, 2005.0], [4.244517904571432, 2005.0], [4.244517904571432, 2005.0], [4.244517904571432, 2004.0], [4.244517904571432, 2004.0], [4.244517904571432, 2004.0], [4.244517904571432, 2003.0], [4.244517904571432, 2003.0], [4.244517904571432, 2003.0], [4.244517904571432, 2003.0], [4.244517904571432, 2002.0], [4.244517904571432, 2002.0], [4.244517904571432, 2002.0], [4.244517904571432, 2001.0], [4.244517904571432, 2001.0], [4.244517904571432, 2001.0], [4.244517904571432, 2000.0], [4.244517904571432, 2000.0], [4.244517904571432, 2000.0], [4.244517904571432, 2000.0], [4.244517904571432, 1999.0], [4.244517904571432, 1999.0], [4.244517904571432, 1999.0], [4.244517904571432, 1998.0], [4.244517904571432, 1998.0], [4.244517904571432, 1998.0], [4.244517904571432, 1998.0], [4.244517904571432, 1998.0], [4.244517904571432, 1998.0], [4.244517904571432, 1998.0], [4.244517904571432, 1998.0], [4.244517904571432, 1998.0], [4.244517904571432, 1997.0], [4.244517904571432, 1997.0], [4.244517904571432, 1997.0], [4.244517904571432, 1997.0], [4.244517904571432, 1996.0], [4.244517904571432, 1995.0], [4.244517904571432, 1995.0], [4.244517904571432, 1995.0], [4.244517904571432, 1994.0], [4.244517904571432, 1994.0], [4.244517904571432, 1993.0], [4.244517904571432, 1993.0], [4.244517904571432, 1993.0], [4.244517904571432, 1993.0], [4.244517904571432, 1992.0], [4.244517904571432, 1992.0], [4.244517904571432, 1992.0], [4.244517904571432, 1992.0], [4.244517904571432, 1992.0], [4.244517904571432, 1991.0], [4.244517904571432, 1991.0], [4.244517904571432, 1991.0], [4.244517904571432, 1991.0], [4.244517904571432, 1991.0], [4.244517904571432, 1990.0], [4.244517904571432, 1990.0], [4.244517904571432, 1990.0], [4.244517904571432, 1990.0], [4.244517904571432, 1990.0], [4.244517904571432, 1990.0], [4.244517904571432, 1990.0], [4.244517904571432, 1990.0], [4.244517904571432, 1990.0], [4.244517904571432, 1989.0], [4.244517904571432, 1989.0], [4.244517904571432, 1989.0], [4.244517904571432, 1989.0], [4.244517904571432, 1989.0], [4.244517904571432, 1989.0], [4.244517904571432, 1989.0], [4.244517904571432, 1989.0], [4.244517904571432, 1989.0], [4.244517904571432, 1989.0], [4.244517904571432, 1988.0], [4.244517904571432, 1988.0], [4.244517904571432, 1988.0], [4.244517904571432, 1988.0], [4.244517904571432, 1988.0], [4.244517904571432, 1988.0], [4.244517904571432, 1988.0], [4.244517904571432, 1988.0], [4.244517904571432, 1987.0], [4.244517904571432, 1987.0], [4.244517904571432, 1987.0], [4.244517904571432, 1987.0], [4.244517904571432, 1987.0], [4.244517904571432, 1987.0], [4.244517904571432, 1987.0], [4.244517904571432, 1987.0], [4.244517904571432, 1986.0], [4.244517904571432, 1986.0], [4.244517904571432, 1986.0], [4.244517904571432, 1986.0], [4.244517904571432, 1986.0], [4.244517904571432, 1985.0], [4.244517904571432, 1985.0], [4.244517904571432, 1985.0], [4.244517904571432, 1985.0], [4.244517904571432, 1985.0], [4.244517904571432, 1985.0], [4.244517904571432, 1985.0], [4.244517904571432, 1985.0], [4.244517904571432, 1984.0], [4.065625704134401, 1985.0], [4.03229200934286, 2017.0], [4.03229200934286, 2017.0], [4.03229200934286, 2017.0], [4.03229200934286, 2017.0], [4.03229200934286, 2016.0], [4.03229200934286, 2016.0], [4.03229200934286, 2016.0], [4.03229200934286, 2016.0], [4.03229200934286, 2015.0], [4.03229200934286, 2014.0], [4.03229200934286, 2013.0], [4.03229200934286, 2012.0], [4.03229200934286, 2011.0], [4.03229200934286, 2011.0], [4.03229200934286, 2010.0], [4.03229200934286, 2010.0], [4.03229200934286, 2009.0], [4.03229200934286, 2008.0], [4.03229200934286, 2007.0], [4.03229200934286, 2006.0], [4.03229200934286, 2006.0], [4.03229200934286, 2005.0], [4.03229200934286, 2004.0], [4.03229200934286, 2004.0], [4.03229200934286, 2003.0], [4.03229200934286, 2002.0], [4.03229200934286, 2002.0], [4.03229200934286, 2001.0], [4.03229200934286, 2001.0], [4.03229200934286, 2001.0], [4.03229200934286, 2001.0], [4.03229200934286, 2001.0], [4.03229200934286, 2000.0], [4.03229200934286, 2000.0], [4.03229200934286, 2000.0], [4.03229200934286, 1999.0], [4.03229200934286, 1999.0], [4.03229200934286, 1999.0], [4.03229200934286, 1998.0], [4.03229200934286, 1998.0], [4.03229200934286, 1996.0], [4.03229200934286, 1996.0], [4.03229200934286, 1996.0], [4.03229200934286, 1995.0], [4.03229200934286, 1995.0], [4.03229200934286, 1994.0], [4.03229200934286, 1994.0], [4.03229200934286, 1993.0], [4.03229200934286, 1993.0], [4.03229200934286, 1992.0], [4.03229200934286, 1992.0], [4.03229200934286, 1991.0], [4.03229200934286, 1991.0], [4.03229200934286, 1991.0], [4.03229200934286, 1990.0], [4.03229200934286, 1990.0], [4.03229200934286, 1990.0], [4.03229200934286, 1989.0], [4.03229200934286, 1989.0], [4.03229200934286, 1989.0], [4.03229200934286, 1989.0], [4.03229200934286, 1989.0], [4.03229200934286, 1989.0], [4.03229200934286, 1988.0], [4.03229200934286, 1988.0], [4.03229200934286, 1988.0], [4.03229200934286, 1988.0], [4.03229200934286, 1988.0], [4.03229200934286, 1988.0], [4.03229200934286, 1988.0], [4.03229200934286, 1988.0], [4.03229200934286, 1988.0], [4.03229200934286, 1987.0], [4.03229200934286, 1987.0], [4.03229200934286, 1987.0], [4.03229200934286, 1987.0], [4.03229200934286, 1987.0], [4.03229200934286, 1986.0], [4.03229200934286, 1986.0], [4.03229200934286, 1986.0], [4.03229200934286, 1986.0], [4.03229200934286, 1986.0], [4.03229200934286, 1986.0], [4.03229200934286, 1986.0], [4.03229200934286, 1986.0], [4.03229200934286, 1985.0], [4.03229200934286, 1985.0], [4.03229200934286, 1985.0], [4.03229200934286, 1985.0], [4.03229200934286, 1984.0], [4.03229200934286, 1984.0], [4.03229200934286, 1984.0], [4.03229200934286, 1984.0], [3.8402781041360576, 2017.0], [3.8402781041360576, 2017.0], [3.8402781041360576, 2016.0], [3.8402781041360576, 2016.0], [3.8402781041360576, 2016.0], [3.8402781041360576, 2016.0], [3.8402781041360576, 2015.0], [3.8402781041360576, 2015.0], [3.8402781041360576, 2015.0], [3.8402781041360576, 2015.0], [3.8402781041360576, 2014.0], [3.8402781041360576, 2014.0], [3.8402781041360576, 2014.0], [3.8402781041360576, 2014.0], [3.8402781041360576, 2013.0], [3.8402781041360576, 2013.0], [3.8402781041360576, 2013.0], [3.8402781041360576, 2013.0], [3.8402781041360576, 2012.0], [3.8402781041360576, 2012.0], [3.8402781041360576, 2012.0], [3.8402781041360576, 2012.0], [3.8402781041360576, 2011.0], [3.8402781041360576, 2011.0], [3.8402781041360576, 2011.0], [3.8402781041360576, 2011.0], [3.8402781041360576, 2010.0], [3.8402781041360576, 2010.0], [3.8402781041360576, 2010.0], [3.8402781041360576, 2009.0], [3.8402781041360576, 2009.0], [3.8402781041360576, 2009.0], [3.8402781041360576, 2008.0], [3.8402781041360576, 2008.0], [3.8402781041360576, 2008.0], [3.8402781041360576, 2008.0], [3.8402781041360576, 2007.0], [3.8402781041360576, 2007.0], [3.8402781041360576, 2007.0], [3.8402781041360576, 2007.0], [3.8402781041360576, 2006.0], [3.8402781041360576, 2006.0], [3.8402781041360576, 2006.0], [3.8402781041360576, 2006.0], [3.8402781041360576, 2006.0], [3.8402781041360576, 2006.0], [3.8402781041360576, 2005.0], [3.8402781041360576, 2005.0], [3.8402781041360576, 2005.0], [3.8402781041360576, 2005.0], [3.8402781041360576, 2005.0], [3.8402781041360576, 2005.0], [3.8402781041360576, 2005.0], [3.8402781041360576, 2004.0], [3.8402781041360576, 2004.0], [3.8402781041360576, 2004.0], [3.8402781041360576, 2004.0], [3.8402781041360576, 2004.0], [3.8402781041360576, 2004.0], [3.8402781041360576, 2003.0], [3.8402781041360576, 2003.0], [3.8402781041360576, 2003.0], [3.8402781041360576, 2002.0], [3.8402781041360576, 2002.0], [3.8402781041360576, 2001.0], [3.8402781041360576, 2001.0], [3.8402781041360576, 2000.0], [3.8402781041360576, 2000.0], [3.8402781041360576, 2000.0], [3.8402781041360576, 2000.0], [3.8402781041360576, 2000.0], [3.8402781041360576, 2000.0], [3.8402781041360576, 1999.0], [3.8402781041360576, 1999.0], [3.8402781041360576, 1999.0], [3.8402781041360576, 1999.0], [3.8402781041360576, 1999.0], [3.8402781041360576, 1999.0], [3.8402781041360576, 1998.0], [3.8402781041360576, 1998.0], [3.8402781041360576, 1998.0], [3.8402781041360576, 1998.0], [3.8402781041360576, 1998.0], [3.8402781041360576, 1997.0], [3.8402781041360576, 1997.0], [3.8402781041360576, 1997.0], [3.8402781041360576, 1997.0], [3.8402781041360576, 1996.0], [3.8402781041360576, 1996.0], [3.8402781041360576, 1996.0], [3.8402781041360576, 1996.0], [3.8402781041360576, 1996.0], [3.8402781041360576, 1996.0], [3.8402781041360576, 1996.0], [3.8402781041360576, 1996.0], [3.8402781041360576, 1996.0], [3.8402781041360576, 1995.0], [3.8402781041360576, 1995.0], [3.8402781041360576, 1995.0], [3.8402781041360576, 1995.0], [3.8402781041360576, 1995.0], [3.8402781041360576, 1995.0], [3.8402781041360576, 1995.0], [3.8402781041360576, 1994.0], [3.8402781041360576, 1994.0], [3.8402781041360576, 1994.0], [3.8402781041360576, 1993.0], [3.8402781041360576, 1993.0], [3.8402781041360576, 1993.0], [3.8402781041360576, 1993.0], [3.8402781041360576, 1993.0], [3.8402781041360576, 1992.0], [3.8402781041360576, 1992.0], [3.8402781041360576, 1992.0], [3.8402781041360576, 1992.0], [3.8402781041360576, 1992.0], [3.8402781041360576, 1992.0], [3.8402781041360576, 1991.0], [3.8402781041360576, 1991.0], [3.8402781041360576, 1990.0], [3.8402781041360576, 1990.0], [3.8402781041360576, 1990.0], [3.8402781041360576, 1989.0], [3.8402781041360576, 1989.0], [3.8402781041360576, 1989.0], [3.8402781041360576, 1989.0], [3.8402781041360576, 1989.0], [3.8402781041360576, 1988.0], [3.8402781041360576, 1987.0], [3.8402781041360576, 1987.0], [3.8402781041360576, 1987.0], [3.8402781041360576, 1987.0], [3.8402781041360576, 1987.0], [3.8402781041360576, 1986.0], [3.8402781041360576, 1986.0], [3.8402781041360576, 1986.0], [3.8402781041360576, 1985.0], [3.8402781041360576, 1985.0], [3.8402781041360576, 1985.0], [3.8402781041360576, 1985.0], [3.8402781041360576, 1985.0], [3.8402781041360576, 1985.0], [3.8402781041360576, 1985.0], [3.8402781041360576, 1985.0], [3.8402781041360576, 1984.0], [3.8402781041360576, 1984.0], [3.8402781041360576, 1984.0], [3.8402781041360576, 1984.0], [3.740375647803649, 1984.0], [3.6657200084935093, 2017.0], [3.6657200084935093, 2016.0], [3.6657200084935093, 2015.0], [3.6657200084935093, 2015.0], [3.6657200084935093, 2015.0], [3.6657200084935093, 2015.0], [3.6657200084935093, 2014.0], [3.6657200084935093, 2014.0], [3.6657200084935093, 2014.0], [3.6657200084935093, 2013.0], [3.6657200084935093, 2013.0], [3.6657200084935093, 2013.0], [3.6657200084935093, 2013.0], [3.6657200084935093, 2012.0], [3.6657200084935093, 2012.0], [3.6657200084935093, 2012.0], [3.6657200084935093, 2012.0], [3.6657200084935093, 2012.0], [3.6657200084935093, 2012.0], [3.6657200084935093, 2012.0], [3.6657200084935093, 2011.0], [3.6657200084935093, 2011.0], [3.6657200084935093, 2011.0], [3.6657200084935093, 2011.0], [3.6657200084935093, 2011.0], [3.6657200084935093, 2011.0], [3.6657200084935093, 2010.0], [3.6657200084935093, 2010.0], [3.6657200084935093, 2010.0], [3.6657200084935093, 2010.0], [3.6657200084935093, 2010.0], [3.6657200084935093, 2009.0], [3.6657200084935093, 2009.0], [3.6657200084935093, 2009.0], [3.6657200084935093, 2009.0], [3.6657200084935093, 2009.0], [3.6657200084935093, 2008.0], [3.6657200084935093, 2008.0], [3.6657200084935093, 2008.0], [3.6657200084935093, 2008.0], [3.6657200084935093, 2008.0], [3.6657200084935093, 2007.0], [3.6657200084935093, 2007.0], [3.6657200084935093, 2007.0], [3.6657200084935093, 2007.0], [3.6657200084935093, 2006.0], [3.6657200084935093, 2006.0], [3.6657200084935093, 2006.0], [3.6657200084935093, 2005.0], [3.6657200084935093, 2005.0], [3.6657200084935093, 2005.0], [3.6657200084935093, 2004.0], [3.6657200084935093, 2004.0], [3.6657200084935093, 2004.0], [3.6657200084935093, 2004.0], [3.6657200084935093, 2003.0], [3.6657200084935093, 2003.0], [3.6657200084935093, 2003.0], [3.6657200084935093, 2003.0], [3.6657200084935093, 2003.0], [3.6657200084935093, 2002.0], [3.6657200084935093, 2002.0], [3.6657200084935093, 2002.0], [3.6657200084935093, 2002.0], [3.6657200084935093, 2002.0], [3.6657200084935093, 2001.0], [3.6657200084935093, 2001.0], [3.6657200084935093, 2001.0], [3.6657200084935093, 2001.0], [3.6657200084935093, 2000.0], [3.6657200084935093, 2000.0], [3.6657200084935093, 1999.0], [3.6657200084935093, 1999.0], [3.6657200084935093, 1999.0], [3.6657200084935093, 1999.0], [3.6657200084935093, 1999.0], [3.6657200084935093, 1998.0], [3.6657200084935093, 1998.0], [3.6657200084935093, 1998.0], [3.6657200084935093, 1998.0], [3.6657200084935093, 1998.0], [3.6657200084935093, 1997.0], [3.6657200084935093, 1997.0], [3.6657200084935093, 1997.0], [3.6657200084935093, 1997.0], [3.6657200084935093, 1997.0], [3.6657200084935093, 1997.0], [3.6657200084935093, 1996.0], [3.6657200084935093, 1996.0], [3.6657200084935093, 1996.0], [3.6657200084935093, 1996.0], [3.6657200084935093, 1995.0], [3.6657200084935093, 1995.0], [3.6657200084935093, 1995.0], [3.6657200084935093, 1995.0], [3.6657200084935093, 1995.0], [3.6657200084935093, 1995.0], [3.6657200084935093, 1995.0], [3.6657200084935093, 1994.0], [3.6657200084935093, 1994.0], [3.6657200084935093, 1994.0], [3.6657200084935093, 1993.0], [3.6657200084935093, 1993.0], [3.6657200084935093, 1993.0], [3.6657200084935093, 1993.0], [3.6657200084935093, 1993.0], [3.6657200084935093, 1992.0], [3.6657200084935093, 1992.0], [3.6657200084935093, 1992.0], [3.6657200084935093, 1992.0], [3.6657200084935093, 1992.0], [3.6657200084935093, 1992.0], [3.6657200084935093, 1991.0], [3.6657200084935093, 1991.0], [3.6657200084935093, 1991.0], [3.6657200084935093, 1991.0], [3.6657200084935093, 1991.0], [3.6657200084935093, 1990.0], [3.6657200084935093, 1990.0], [3.6657200084935093, 1990.0], [3.6657200084935093, 1990.0], [3.6657200084935093, 1990.0], [3.6657200084935093, 1989.0], [3.6657200084935093, 1989.0], [3.6657200084935093, 1989.0], [3.6657200084935093, 1989.0], [3.6657200084935093, 1989.0], [3.6657200084935093, 1988.0], [3.6657200084935093, 1988.0], [3.6657200084935093, 1988.0], [3.6657200084935093, 1988.0], [3.6657200084935093, 1988.0], [3.6657200084935093, 1988.0], [3.6657200084935093, 1988.0], [3.6657200084935093, 1987.0], [3.6657200084935093, 1987.0], [3.6657200084935093, 1987.0], [3.6657200084935093, 1986.0], [3.6657200084935093, 1986.0], [3.6657200084935093, 1986.0], [3.6657200084935093, 1985.0], [3.6657200084935093, 1985.0], [3.6657200084935093, 1985.0], [3.6657200084935093, 1984.0], [3.5965150459650466, 1985.0], [3.5063408776894436, 2015.0], [3.5063408776894436, 2014.0], [3.5063408776894436, 2014.0], [3.5063408776894436, 2013.0], [3.5063408776894436, 2013.0], [3.5063408776894436, 2012.0], [3.5063408776894436, 2012.0], [3.5063408776894436, 2011.0], [3.5063408776894436, 2011.0], [3.5063408776894436, 2011.0], [3.5063408776894436, 2010.0], [3.5063408776894436, 2010.0], [3.5063408776894436, 2010.0], [3.5063408776894436, 2009.0], [3.5063408776894436, 2009.0], [3.5063408776894436, 2009.0], [3.5063408776894436, 2007.0], [3.5063408776894436, 2007.0], [3.5063408776894436, 2007.0], [3.5063408776894436, 2006.0], [3.5063408776894436, 2005.0], [3.5063408776894436, 2005.0], [3.5063408776894436, 2004.0], [3.5063408776894436, 2004.0], [3.5063408776894436, 2003.0], [3.5063408776894436, 2003.0], [3.5063408776894436, 2003.0], [3.5063408776894436, 2003.0], [3.5063408776894436, 2002.0], [3.5063408776894436, 2002.0], [3.5063408776894436, 2002.0], [3.5063408776894436, 2002.0], [3.5063408776894436, 2001.0], [3.5063408776894436, 2001.0], [3.5063408776894436, 2001.0], [3.5063408776894436, 2000.0], [3.5063408776894436, 2000.0], [3.5063408776894436, 2000.0], [3.5063408776894436, 2000.0], [3.5063408776894436, 2000.0], [3.5063408776894436, 2000.0], [3.5063408776894436, 2000.0], [3.5063408776894436, 2000.0], [3.5063408776894436, 2000.0], [3.5063408776894436, 1999.0], [3.5063408776894436, 1999.0], [3.5063408776894436, 1999.0], [3.5063408776894436, 1999.0], [3.5063408776894436, 1999.0], [3.5063408776894436, 1999.0], [3.5063408776894436, 1999.0], [3.5063408776894436, 1998.0], [3.5063408776894436, 1998.0], [3.5063408776894436, 1998.0], [3.5063408776894436, 1998.0], [3.5063408776894436, 1998.0], [3.5063408776894436, 1998.0], [3.5063408776894436, 1997.0], [3.5063408776894436, 1997.0], [3.5063408776894436, 1997.0], [3.5063408776894436, 1997.0], [3.5063408776894436, 1996.0], [3.5063408776894436, 1996.0], [3.5063408776894436, 1995.0], [3.5063408776894436, 1995.0], [3.5063408776894436, 1994.0], [3.5063408776894436, 1994.0], [3.5063408776894436, 1994.0], [3.5063408776894436, 1992.0], [3.5063408776894436, 1991.0], [3.5063408776894436, 1991.0], [3.5063408776894436, 1991.0], [3.5063408776894436, 1990.0], [3.5063408776894436, 1990.0], [3.5063408776894436, 1990.0], [3.5063408776894436, 1990.0], [3.5063408776894436, 1989.0], [3.5063408776894436, 1989.0], [3.5063408776894436, 1989.0], [3.5063408776894436, 1988.0], [3.5063408776894436, 1988.0], [3.5063408776894436, 1988.0], [3.5063408776894436, 1987.0], [3.5063408776894436, 1987.0], [3.5063408776894436, 1987.0], [3.5063408776894436, 1986.0], [3.5063408776894436, 1986.0], [3.5063408776894436, 1985.0], [3.463310785003378, 1985.0], [3.463310785003378, 1984.0], [3.36024334111905, 2017.0], [3.36024334111905, 2017.0], [3.36024334111905, 2017.0], [3.36024334111905, 2016.0], [3.36024334111905, 2015.0], [3.36024334111905, 2014.0], [3.36024334111905, 2013.0], [3.36024334111905, 2013.0], [3.36024334111905, 2013.0], [3.36024334111905, 2012.0], [3.36024334111905, 2012.0], [3.36024334111905, 2012.0], [3.36024334111905, 2012.0], [3.36024334111905, 2011.0], [3.36024334111905, 2011.0], [3.36024334111905, 2011.0], [3.36024334111905, 2011.0], [3.36024334111905, 2010.0], [3.36024334111905, 2010.0], [3.36024334111905, 2010.0], [3.36024334111905, 2010.0], [3.36024334111905, 2010.0], [3.36024334111905, 2009.0], [3.36024334111905, 2009.0], [3.36024334111905, 2009.0], [3.36024334111905, 2009.0], [3.36024334111905, 2009.0], [3.36024334111905, 2008.0], [3.36024334111905, 2007.0], [3.36024334111905, 2006.0], [3.36024334111905, 2006.0], [3.36024334111905, 2006.0], [3.36024334111905, 2006.0], [3.36024334111905, 2005.0], [3.36024334111905, 2005.0], [3.36024334111905, 2005.0], [3.36024334111905, 2005.0], [3.36024334111905, 2004.0], [3.36024334111905, 2004.0], [3.36024334111905, 2004.0], [3.36024334111905, 2004.0], [3.36024334111905, 2004.0], [3.36024334111905, 2004.0], [3.36024334111905, 2003.0], [3.36024334111905, 2003.0], [3.36024334111905, 2003.0], [3.36024334111905, 2003.0], [3.36024334111905, 2003.0], [3.36024334111905, 2003.0], [3.36024334111905, 2002.0], [3.36024334111905, 2002.0], [3.36024334111905, 2002.0], [3.36024334111905, 2002.0], [3.36024334111905, 2002.0], [3.36024334111905, 2002.0], [3.36024334111905, 2001.0], [3.36024334111905, 2001.0], [3.36024334111905, 2001.0], [3.36024334111905, 2001.0], [3.36024334111905, 2001.0], [3.36024334111905, 2001.0], [3.36024334111905, 2000.0], [3.36024334111905, 2000.0], [3.36024334111905, 2000.0], [3.36024334111905, 1999.0], [3.36024334111905, 1999.0], [3.36024334111905, 1998.0], [3.36024334111905, 1997.0], [3.36024334111905, 1996.0], [3.36024334111905, 1994.0], [3.36024334111905, 1994.0], [3.36024334111905, 1993.0], [3.36024334111905, 1993.0], [3.36024334111905, 1993.0], [3.36024334111905, 1992.0], [3.36024334111905, 1992.0], [3.36024334111905, 1992.0], [3.36024334111905, 1992.0], [3.36024334111905, 1991.0], [3.36024334111905, 1991.0], [3.36024334111905, 1991.0], [3.36024334111905, 1991.0], [3.36024334111905, 1991.0], [3.36024334111905, 1991.0], [3.36024334111905, 1990.0], [3.36024334111905, 1990.0], [3.36024334111905, 1990.0], [3.36024334111905, 1990.0], [3.36024334111905, 1990.0], [3.36024334111905, 1990.0], [3.36024334111905, 1989.0], [3.36024334111905, 1989.0], [3.36024334111905, 1989.0], [3.36024334111905, 1988.0], [3.36024334111905, 1988.0], [3.36024334111905, 1988.0], [3.36024334111905, 1988.0], [3.36024334111905, 1988.0], [3.36024334111905, 1987.0], [3.36024334111905, 1987.0], [3.36024334111905, 1987.0], [3.36024334111905, 1987.0], [3.36024334111905, 1986.0], [3.36024334111905, 1986.0], [3.36024334111905, 1986.0], [3.36024334111905, 1985.0], [3.36024334111905, 1985.0], [3.36024334111905, 1985.0], [3.36024334111905, 1984.0], [3.339621114110401, 1985.0], [3.225833607474288, 2017.0], [3.225833607474288, 2017.0], [3.225833607474288, 2016.0], [3.225833607474288, 2016.0], [3.225833607474288, 2016.0], [3.225833607474288, 2015.0], [3.225833607474288, 2015.0], [3.225833607474288, 2015.0], [3.225833607474288, 2014.0], [3.225833607474288, 2014.0], [3.225833607474288, 2014.0], [3.225833607474288, 2014.0], [3.225833607474288, 2013.0], [3.225833607474288, 2013.0], [3.225833607474288, 2013.0], [3.225833607474288, 2013.0], [3.225833607474288, 2012.0], [3.225833607474288, 2011.0], [3.225833607474288, 2011.0], [3.225833607474288, 2010.0], [3.225833607474288, 2010.0], [3.225833607474288, 2009.0], [3.225833607474288, 2009.0], [3.225833607474288, 2009.0], [3.225833607474288, 2009.0], [3.225833607474288, 2008.0], [3.225833607474288, 2008.0], [3.225833607474288, 2008.0], [3.225833607474288, 2008.0], [3.225833607474288, 2007.0], [3.225833607474288, 2007.0], [3.225833607474288, 2007.0], [3.225833607474288, 2006.0], [3.225833607474288, 2006.0], [3.225833607474288, 2006.0], [3.225833607474288, 2006.0], [3.225833607474288, 2005.0], [3.225833607474288, 2005.0], [3.225833607474288, 2005.0], [3.225833607474288, 2005.0], [3.225833607474288, 2005.0], [3.225833607474288, 2005.0], [3.225833607474288, 2004.0], [3.225833607474288, 2004.0], [3.225833607474288, 2004.0], [3.225833607474288, 2003.0], [3.225833607474288, 2003.0], [3.225833607474288, 2003.0], [3.225833607474288, 2003.0], [3.225833607474288, 1996.0], [3.225833607474288, 1995.0], [3.225833607474288, 1995.0], [3.225833607474288, 1994.0], [3.225833607474288, 1994.0], [3.225833607474288, 1994.0], [3.225833607474288, 1994.0], [3.225833607474288, 1993.0], [3.225833607474288, 1993.0], [3.225833607474288, 1993.0], [3.225833607474288, 1993.0], [3.225833607474288, 1992.0], [3.225833607474288, 1992.0], [3.225833607474288, 1992.0], [3.225833607474288, 1991.0], [3.225833607474288, 1991.0], [3.225833607474288, 1991.0], [3.225833607474288, 1990.0], [3.225833607474288, 1990.0], [3.225833607474288, 1990.0], [3.225833607474288, 1990.0], [3.225833607474288, 1989.0], [3.225833607474288, 1989.0], [3.225833607474288, 1989.0], [3.225833607474288, 1989.0], [3.225833607474288, 1989.0], [3.225833607474288, 1989.0], [3.225833607474288, 1989.0], [3.225833607474288, 1989.0], [3.225833607474288, 1989.0], [3.225833607474288, 1989.0], [3.225833607474288, 1989.0], [3.225833607474288, 1988.0], [3.225833607474288, 1988.0], [3.225833607474288, 1988.0], [3.225833607474288, 1988.0], [3.225833607474288, 1988.0], [3.225833607474288, 1988.0], [3.225833607474288, 1988.0], [3.225833607474288, 1988.0], [3.225833607474288, 1988.0], [3.225833607474288, 1988.0], [3.225833607474288, 1988.0], [3.225833607474288, 1988.0], [3.225833607474288, 1987.0], [3.225833607474288, 1987.0], [3.225833607474288, 1987.0], [3.225833607474288, 1987.0], [3.225833607474288, 1987.0], [3.225833607474288, 1986.0], [3.225833607474288, 1986.0], [3.225833607474288, 1986.0], [3.225833607474288, 1986.0], [3.2244617653479732, 1986.0], [3.2244617653479732, 1984.0], [3.1169797065030407, 1985.0], [3.1169797065030407, 1984.0], [3.101763084109893, 2017.0], [3.101763084109893, 2016.0], [3.101763084109893, 2016.0], [3.101763084109893, 2015.0], [3.101763084109893, 2015.0], [3.101763084109893, 2014.0], [3.101763084109893, 2013.0], [3.101763084109893, 2011.0], [3.101763084109893, 2011.0], [3.101763084109893, 2010.0], [3.101763084109893, 2010.0], [3.101763084109893, 2010.0], [3.101763084109893, 2009.0], [3.101763084109893, 2008.0], [3.101763084109893, 2007.0], [3.101763084109893, 2007.0], [3.101763084109893, 2006.0], [3.101763084109893, 2005.0], [3.101763084109893, 2005.0], [3.101763084109893, 2004.0], [3.101763084109893, 2004.0], [3.101763084109893, 2003.0], [3.101763084109893, 2000.0], [3.101763084109893, 2000.0], [3.101763084109893, 1999.0], [3.101763084109893, 1999.0], [3.101763084109893, 1999.0], [3.101763084109893, 1998.0], [3.101763084109893, 1998.0], [3.101763084109893, 1998.0], [3.101763084109893, 1997.0], [3.101763084109893, 1997.0], [3.101763084109893, 1997.0], [3.101763084109893, 1997.0], [3.101763084109893, 1996.0], [3.101763084109893, 1996.0], [3.101763084109893, 1996.0], [3.101763084109893, 1995.0], [3.101763084109893, 1995.0], [3.101763084109893, 1995.0], [3.101763084109893, 1994.0], [3.101763084109893, 1994.0], [3.101763084109893, 1994.0], [3.101763084109893, 1994.0], [3.101763084109893, 1993.0], [3.101763084109893, 1993.0], [3.101763084109893, 1993.0], [3.101763084109893, 1991.0], [3.101763084109893, 1991.0], [3.101763084109893, 1991.0], [3.101763084109893, 1991.0], [3.101763084109893, 1990.0], [3.101763084109893, 1990.0], [3.101763084109893, 1990.0], [3.101763084109893, 1990.0], [3.101763084109893, 1989.0], [3.101763084109893, 1989.0], [3.101763084109893, 1988.0], [3.101763084109893, 1988.0], [3.101763084109893, 1987.0], [3.101763084109893, 1987.0], [3.101763084109893, 1987.0], [3.101763084109893, 1987.0], [3.101763084109893, 1987.0], [3.101763084109893, 1987.0], [3.101763084109893, 1987.0], [3.101763084109893, 1987.0], [3.101763084109893, 1987.0], [3.101763084109893, 1986.0], [3.101763084109893, 1986.0], [3.101763084109893, 1986.0], [3.101763084109893, 1986.0], [3.101763084109893, 1986.0], [3.101763084109893, 1985.0], [3.101763084109893, 1985.0], [3.101763084109893, 1985.0], [3.101763084109893, 1985.0], [3.101763084109893, 1985.0], [3.101763084109893, 1985.0], [3.101763084109893, 1985.0], [3.101763084109893, 1985.0], [3.101763084109893, 1985.0], [3.0164319740352004, 1985.0], [2.9868829698835992, 2017.0], [2.9868829698835992, 2017.0], [2.9868829698835992, 2008.0], [2.9868829698835992, 2007.0], [2.9868829698835992, 2006.0], [2.9868829698835992, 2006.0], [2.9868829698835992, 2005.0], [2.9868829698835992, 2004.0], [2.9868829698835992, 2003.0], [2.9868829698835992, 2002.0], [2.9868829698835992, 2002.0], [2.9868829698835992, 2001.0], [2.9868829698835992, 2001.0], [2.9868829698835992, 2000.0], [2.9868829698835992, 1999.0], [2.9868829698835992, 1998.0], [2.9868829698835992, 1998.0], [2.9868829698835992, 1997.0], [2.9868829698835992, 1996.0], [2.9868829698835992, 1996.0], [2.9868829698835992, 1996.0], [2.9868829698835992, 1996.0], [2.9868829698835992, 1995.0], [2.9868829698835992, 1995.0], [2.9868829698835992, 1995.0], [2.9868829698835992, 1995.0], [2.9868829698835992, 1994.0], [2.9868829698835992, 1994.0], [2.9868829698835992, 1993.0], [2.9868829698835992, 1993.0], [2.9868829698835992, 1992.0], [2.9868829698835992, 1992.0], [2.9868829698835992, 1992.0], [2.9868829698835992, 1990.0], [2.9868829698835992, 1987.0], [2.9868829698835992, 1987.0], [2.9868829698835992, 1987.0], [2.9868829698835992, 1986.0], [2.9868829698835992, 1986.0], [2.9868829698835992, 1986.0], [2.9868829698835992, 1986.0], [2.9868829698835992, 1985.0], [2.9868829698835992, 1985.0], [2.9868829698835992, 1985.0], [2.9868829698835992, 1985.0], [2.8802085781020423, 2016.0], [2.8802085781020423, 2016.0], [2.8802085781020423, 2016.0], [2.8802085781020423, 2015.0], [2.8802085781020423, 2015.0], [2.8802085781020423, 2015.0], [2.8802085781020423, 2014.0], [2.8802085781020423, 2014.0], [2.8802085781020423, 2014.0], [2.8802085781020423, 2013.0], [2.8802085781020423, 2013.0], [2.8802085781020423, 2013.0], [2.8802085781020423, 2012.0], [2.8802085781020423, 2012.0], [2.8802085781020423, 2012.0], [2.8802085781020423, 2011.0], [2.8802085781020423, 2011.0], [2.8802085781020423, 2010.0], [2.8802085781020423, 2010.0], [2.8802085781020423, 2009.0], [2.8802085781020423, 2009.0], [2.8802085781020423, 2005.0], [2.8802085781020423, 2004.0], [2.8802085781020423, 2004.0], [2.8802085781020423, 2004.0], [2.8802085781020423, 2003.0], [2.8802085781020423, 2003.0], [2.8802085781020423, 2003.0], [2.8802085781020423, 2002.0], [2.8802085781020423, 2001.0], [2.8802085781020423, 2000.0], [2.8802085781020423, 1999.0], [2.8802085781020423, 1998.0], [2.8802085781020423, 1998.0], [2.8802085781020423, 1997.0], [2.8802085781020423, 1997.0], [2.8802085781020423, 1997.0], [2.8802085781020423, 1996.0], [2.8802085781020423, 1995.0], [2.8802085781020423, 1992.0], [2.8802085781020423, 1991.0], [2.8802085781020423, 1990.0], [2.8802085781020423, 1989.0], [2.8802085781020423, 1989.0], [2.8802085781020423, 1988.0], [2.8802085781020423, 1988.0], [2.8802085781020423, 1987.0], [2.78089104092611, 2013.0], [2.78089104092611, 2013.0], [2.78089104092611, 2012.0], [2.78089104092611, 2012.0], [2.78089104092611, 2011.0], [2.78089104092611, 2011.0], [2.78089104092611, 2010.0], [2.78089104092611, 2008.0], [2.78089104092611, 2008.0], [2.78089104092611, 2007.0], [2.78089104092611, 2007.0], [2.78089104092611, 2006.0], [2.78089104092611, 2006.0], [2.78089104092611, 2005.0], [2.78089104092611, 2005.0], [2.78089104092611, 1999.0], [2.78089104092611, 1998.0], [2.78089104092611, 1997.0], [2.78089104092611, 1997.0], [2.78089104092611, 1997.0], [2.78089104092611, 1996.0], [2.78089104092611, 1996.0], [2.78089104092611, 1996.0], [2.78089104092611, 1995.0], [2.78089104092611, 1995.0], [2.78089104092611, 1994.0], [2.78089104092611, 1993.0], [2.78089104092611, 1990.0], [2.78089104092611, 1989.0], [2.78089104092611, 1988.0], [2.78089104092611, 1988.0], [2.78089104092611, 1988.0], [2.78089104092611, 1987.0], [2.78089104092611, 1986.0], [2.78089104092611, 1986.0], [2.78089104092611, 1986.0], [2.78089104092611, 1985.0], [2.78089104092611, 1985.0], [2.78089104092611, 1985.0], [2.78089104092611, 1985.0], [2.6881946728952397, 2017.0], [2.6881946728952397, 2017.0], [2.6881946728952397, 2013.0], [2.6881946728952397, 2012.0], [2.6881946728952397, 2010.0], [2.6881946728952397, 2009.0], [2.6881946728952397, 2009.0], [2.6881946728952397, 2002.0], [2.6881946728952397, 2002.0], [2.6881946728952397, 2001.0], [2.6881946728952397, 2001.0], [2.6881946728952397, 2000.0], [2.6881946728952397, 2000.0], [2.6881946728952397, 1999.0], [2.6881946728952397, 1998.0], [2.6881946728952397, 1998.0], [2.6881946728952397, 1996.0], [2.6881946728952397, 1995.0], [2.6881946728952397, 1992.0], [2.6881946728952397, 1987.0], [2.6014787157050705, 2017.0], [2.6014787157050705, 2017.0], [2.6014787157050705, 2016.0], [2.6014787157050705, 2016.0], [2.6014787157050705, 2015.0], [2.6014787157050705, 2015.0], [2.6014787157050705, 2014.0], [2.6014787157050705, 2014.0], [2.6014787157050705, 2011.0], [2.6014787157050705, 2011.0], [2.6014787157050705, 2010.0], [2.6014787157050705, 2009.0], [2.6014787157050705, 2008.0], [2.6014787157050705, 2008.0], [2.6014787157050705, 2007.0], [2.6014787157050705, 2007.0], [2.6014787157050705, 2006.0], [2.6014787157050705, 2005.0], [2.6014787157050705, 2005.0], [2.6014787157050705, 2004.0], [2.6014787157050705, 2004.0], [2.6014787157050705, 2003.0], [2.6014787157050705, 2003.0], [2.6014787157050705, 2002.0], [2.6014787157050705, 2001.0], [2.6014787157050705, 1999.0], [2.6014787157050705, 1999.0], [2.6014787157050705, 1999.0], [2.6014787157050705, 1997.0], [2.6014787157050705, 1995.0], [2.6014787157050705, 1991.0], [2.597483088752534, 1985.0], [2.5201825058392875, 2017.0], [2.5201825058392875, 2017.0], [2.5201825058392875, 2017.0], [2.5201825058392875, 2016.0], [2.5201825058392875, 2016.0], [2.5201825058392875, 2016.0], [2.5201825058392875, 2015.0], [2.5201825058392875, 2015.0], [2.5201825058392875, 2015.0], [2.5201825058392875, 2014.0], [2.5201825058392875, 2014.0], [2.5201825058392875, 2014.0], [2.5201825058392875, 2013.0], [2.5201825058392875, 2012.0], [2.5201825058392875, 2011.0], [2.5201825058392875, 2010.0], [2.5201825058392875, 2009.0], [2.5201825058392875, 2008.0], [2.5201825058392875, 2007.0], [2.5201825058392875, 2002.0], [2.5201825058392875, 2001.0], [2.5201825058392875, 2000.0], [2.5201825058392875, 1996.0], [2.5201825058392875, 1986.0], [2.5201825058392875, 1985.0], [2.4438133389956724, 2017.0], [2.4438133389956724, 2017.0], [2.4438133389956724, 2016.0], [2.4438133389956724, 2016.0], [2.4438133389956724, 2015.0], [2.4438133389956724, 2014.0], [2.4438133389956724, 2013.0], [2.4438133389956724, 2012.0], [2.4438133389956724, 2011.0], [2.4438133389956724, 2005.0], [2.4438133389956724, 2004.0], [2.4438133389956724, 2003.0], [2.4438133389956724, 1989.0], [2.4438133389956724, 1988.0], [2.4438133389956724, 1987.0], [2.371936476084035, 2017.0], [2.371936476084035, 2017.0], [2.371936476084035, 2016.0], [2.371936476084035, 2015.0], [2.371936476084035, 2014.0], [2.371936476084035, 2010.0], [2.371936476084035, 2009.0], [2.371936476084035, 2008.0], [2.371936476084035, 2007.0], [2.304166862481634, 2017.0], [2.304166862481634, 2016.0], [2.304166862481634, 2015.0], [2.304166862481634, 2014.0], [2.122258952285716, 2017.0], [2.01614600467143, 2017.0], [2.01614600467143, 2016.0], [2.01614600467143, 2016.0], [2.01614600467143, 2015.0], [2.01614600467143, 2015.0], [2.01614600467143, 2014.0], [2.01614600467143, 2014.0], [2.01614600467143, 2013.0], [2.01614600467143, 2013.0], [2.01614600467143, 2012.0], [1.966971711874566, 2017.0], [1.966971711874566, 2016.0], [1.966971711874566, 2015.0], [1.966971711874566, 2014.0], [1.966971711874566, 2013.0], [1.966971711874566, 2012.0], [1.966971711874566, 2003.0], [1.966971711874566, 2002.0], [1.966971711874566, 2001.0], [1.9201390520680284, 2016.0], [1.9201390520680284, 2015.0], [1.9201390520680284, 2014.0], [1.9201390520680284, 2013.0], [1.9201390520680284, 2012.0], [1.7531704388447218, 2009.0], [1.7531704388447218, 2008.0], [1.7531704388447218, 2007.0], [1.7531704388447218, 2006.0], [1.7531704388447218, 2005.0], [1.7531704388447218, 2004.0], [1.612916803737144, 2016.0], [1.612916803737144, 2015.0], [1.612916803737144, 2015.0], [1.612916803737144, 2014.0], [1.612916803737144, 2014.0], [1.612916803737144, 2013.0], [1.612916803737144, 2013.0], [1.612916803737144, 2012.0], [1.612916803737144, 2012.0], [1.612916803737144, 2011.0], [1.612916803737144, 2010.0], [1.5508815420549462, 2017.0], [1.5508815420549462, 2016.0], [1.4401042890510212, 2017.0], [1.4401042890510212, 2016.0], [1.1608666603945073, 2012.0], [1.1590393333772109, 2015.0], [1.1590393333772109, 2014.0], [1.1590393333772109, 2013.0], [0.020685777785255065, 2001.0], [0.020685777785255065, 2000.0], [0.0197863961424179, 1999.0]]\n"
          ]
        },
        {
          "output_type": "stream",
          "name": "stderr",
          "text": [
            "<ipython-input-9-4ac594e15cd6>:5: SettingWithCopyWarning: \n",
            "A value is trying to be set on a copy of a slice from a DataFrame.\n",
            "Try using .loc[row_indexer,col_indexer] = value instead\n",
            "\n",
            "See the caveats in the documentation: https://pandas.pydata.org/pandas-docs/stable/user_guide/indexing.html#returning-a-view-versus-a-copy\n",
            "  toyota_df[\"FuelBarrelsYear_z\"] = toyota_df[\"Fuel Barrels/Year\"] / toyota_df[\"Fuel Barrels/Year\"].std()\n",
            "<ipython-input-9-4ac594e15cd6>:7: SettingWithCopyWarning: \n",
            "A value is trying to be set on a copy of a slice from a DataFrame.\n",
            "Try using .loc[row_indexer,col_indexer] = value instead\n",
            "\n",
            "See the caveats in the documentation: https://pandas.pydata.org/pandas-docs/stable/user_guide/indexing.html#returning-a-view-versus-a-copy\n",
            "  toyota_df[\"FuelBarrelsYear_z\"] = abs(toyota_df[\"FuelBarrelsYear_z\"])\n"
          ]
        }
      ]
    },
    {
      "cell_type": "markdown",
      "source": [
        "##Q5. Calculate the changes in Combined MPG with their previous model of all Golf cars with Manual 5-spd transmission and Regular Fuel Type. Show the Year, the Combined MPG and the calculated difference of MPG in a list sorted by Year in ascending order.\n",
        "\n",
        "##### Format: A 19X3 list, with the Year and Combined MPG being of type integer **and only the calculated difference is of type float**\n",
        "##### **Note: The value for the first model should be 0.** It does not matter that there are gaps in the years, calculate with respect the previous model.\n",
        "\n",
        "#####Example answer:\n",
        "\n",
        "\n",
        "\n",
        "```\n",
        "[[1986, 25, 0.0],\n",
        " [1987, 25, 0.0],\n",
        " [1988, 25, 0.0],\n",
        " [1989, 25, 0.0],\n",
        " [1990, 23, -2.0],\n",
        " [1991, 23, 0.0],\n",
        " [1992, 24, 1.0],\n",
        " [1993, 25, 1.0],\n",
        " [1994, 25, 0.0],\n",
        " [1995, 25, 0.0],\n",
        " [1996, 25, 0.0],\n",
        " [1997, 25, 0.0],\n",
        " [1998, 24, -1.0],\n",
        " [1999, 25, 1.0],\n",
        " [2000, 24, -1.0],\n",
        " [2001, 24, 0.0],\n",
        " [2002, 24, 0.0],\n",
        " [2004, 24, 0.0],\n",
        " [2006, 24, 0.0]]\n",
        "```\n",
        "\n",
        "\n",
        "\n"
      ],
      "metadata": {
        "id": "7eCpEljJnXzt"
      }
    },
    {
      "cell_type": "code",
      "source": [
        "import pandas as pd\n",
        "\n",
        "df = pd.read_csv(\"https://storage.googleapis.com/deb-evaluation-materials/vehicles.csv\")\n",
        "\n",
        "# Filter the DataFrame to only Golf cars with Manual 5-spd transmission and Regular Fuel Type\n",
        "golf_df = df.loc[(df[\"Make\"] == \"Volkswagen\") & (df[\"Model\"] == \"Golf\") & (df[\"Transmission\"] == \"Manual 5-spd\") & (df[\"Fuel Type\"] == \"Regular\")]\n",
        "\n",
        "# Create a list to store the results\n",
        "results = []\n",
        "\n",
        "# Iterate over the DataFrame by year\n",
        "for year in golf_df[\"Year\"].unique():\n",
        "\n",
        "  # Check if the year is in the DataFrame\n",
        "  if year in golf_df[\"Year\"].index:\n",
        "\n",
        "    # Get the previous year's MPG\n",
        "    previous_mpg = golf_df.loc[(golf_df[\"Year\"] == year - 1)][\"Combined MPG\"].iloc[0]\n",
        "\n",
        "    # Get the current year's MPG\n",
        "    current_mpg = golf_df.loc[(golf_df[\"Year\"] == year)][\"Combined MPG\"].iloc[0]\n",
        "\n",
        "    # Calculate the difference in MPG\n",
        "    difference_mpg = current_mpg - previous_mpg\n",
        "\n",
        "    # Add the results to the list\n",
        "    results.append([year, current_mpg, difference_mpg])\n",
        "\n",
        "# Sort the results by year\n",
        "results.sort(key=lambda x: x[0])\n",
        "\n",
        "# Print the results\n",
        "print(results)\n"
      ],
      "metadata": {
        "id": "lMlKfEWUH3S9",
        "colab": {
          "base_uri": "https://localhost:8080/"
        },
        "outputId": "fdf0ba77-ae1f-4d2a-8808-5993c624fe9d"
      },
      "execution_count": 10,
      "outputs": [
        {
          "output_type": "stream",
          "name": "stdout",
          "text": [
            "[]\n"
          ]
        }
      ]
    },
    {
      "cell_type": "markdown",
      "source": [
        "##Q6. What are the top 5 lowest CO2 Emission Grams/Mile emmisions of cars for each of the following brands: Toyota, Ford, Volkswagen, Nissan, Honda\n",
        "\n",
        "#####Format: A 5X6 list with the first element of each row being the Make of the cars and the following five values being floats sorted in ascending order. The Makes should appear in order listed in the question starting with Toyota and ending with Honda (see example).\n",
        "\n",
        "#####Example answer:\n",
        "\n",
        "```\n",
        "[['Toyota', 100.0, 140.0, 140.0, 150.0, 150.0],\n",
        " ['Ford',\n",
        "  100.025641025641,\n",
        "  200.677633075759575,\n",
        "  200.677633075759575,\n",
        "  200.677633075759575,\n",
        "  200.677633075759575],\n",
        " ['Volkswagen', 139.0, 154.0, 166.5, 166.5, 166.5],\n",
        " ['Nissan', 122.0, 122.0, 122.0, 122.0, 160.0],\n",
        " ['Honda', 100.0, 100.0, 100.0, 100.0, 123.91684618442447]]\n",
        "```\n",
        "\n",
        "\n",
        "\n",
        "\n"
      ],
      "metadata": {
        "id": "EnHdqUs-nagE"
      }
    },
    {
      "cell_type": "code",
      "source": [
        "########## Q6\n",
        "#Your code here\n",
        "import pandas as pd\n",
        "\n",
        "df = pd.read_csv(\"https://storage.googleapis.com/deb-evaluation-materials/vehicles.csv\")\n",
        "\n",
        "# Find the 5 lowest CO2 Emission Grams/Mile emissions for each brand\n",
        "top_5_co2_emissions = []\n",
        "for make in [\"Toyota\", \"Ford\", \"Volkswagen\", \"Nissan\", \"Honda\"]:\n",
        "  brand_df = df.loc[df[\"Make\"] == make]\n",
        "  top_5_co2_emissions_by_brand = brand_df[\"CO2 Emission Grams/Mile\"].sort_values().head(5)\n",
        "  top_5_co2_emissions.append([make] + list(top_5_co2_emissions_by_brand))\n",
        "\n",
        "# Print the results\n",
        "print(top_5_co2_emissions)\n",
        "\n",
        "answer_dict[\"Q6\"] = [['Toyota', 133.0, 133.0, 133.0, 133.0, 158.0], ['Ford', 112.0, 129.0, 129.0, 129.0, 129.0], ['Volkswagen', 200.0, 200.0, 200.0, 200.0, 261.025641025641], ['Nissan', 249.0, 254.0, 254.5, 254.5, 254.5], ['Honda', 130.0, 167.67924528301887, 167.67924528301887, 167.67924528301887, 167.67924528301887]]\n"
      ],
      "metadata": {
        "id": "8KKg3bT6na41",
        "outputId": "412d3d1d-2a29-4cd3-e965-817f3eecceb6",
        "colab": {
          "base_uri": "https://localhost:8080/"
        }
      },
      "execution_count": 11,
      "outputs": [
        {
          "output_type": "stream",
          "name": "stdout",
          "text": [
            "[['Toyota', 133.0, 133.0, 133.0, 133.0, 158.0], ['Ford', 112.0, 129.0, 129.0, 129.0, 129.0], ['Volkswagen', 200.0, 200.0, 200.0, 200.0, 261.025641025641], ['Nissan', 249.0, 254.0, 254.5, 254.5, 254.5], ['Honda', 130.0, 167.67924528301887, 167.67924528301887, 167.67924528301887, 167.67924528301887]]\n"
          ]
        }
      ]
    },
    {
      "cell_type": "markdown",
      "source": [
        "##Q7. Form 7 groups of 5 years to calculated the median Combined MPG of each group. The first group is from 1984 to 1988, the second from 1989 to 1993 and so on. The last group will have years not appearing in the dataset.\n",
        "\n",
        "#####Note: The groups ranges are inclusive on both sides, the first group starts with 1984 and cars from 1984 are included in it.\n",
        "#####Format : A 7X2 list with the first element of each row being a tuple of two integers being the lower and uppper range of the year groups and the esecond element being the median Combined MPG of that group, a float number.\n",
        "\n",
        "#####Example answer:\n",
        "\n",
        "\n",
        "```\n",
        "[[(1984, 1988), 11.0],\n",
        " [(1989, 1993), 10.0],\n",
        " [(1994, 1998), 10.0],\n",
        " [(1999, 2003), 14.0],\n",
        " [(2004, 2008), 13.0],\n",
        " [(2009, 2013), 14.0],\n",
        " [(2014, 2018), 15.0]]\n",
        "```\n",
        "\n"
      ],
      "metadata": {
        "id": "gDNo1Fcesgk5"
      }
    },
    {
      "cell_type": "code",
      "source": [
        "########## Q7\n",
        "#Your code here\n",
        "import pandas as pd\n",
        "\n",
        "df = pd.read_csv(\"https://storage.googleapis.com/deb-evaluation-materials/vehicles.csv\")\n",
        "\n",
        "# Create a list of tuples of start and end years\n",
        "year_groups = []\n",
        "for i in range(7):\n",
        "  start_year = 1984 + 5 * i\n",
        "  end_year = start_year + 4\n",
        "  year_groups.append((start_year, end_year))\n",
        "\n",
        "# Calculate the median Combined MPG for each group\n",
        "median_combined_mpg_by_year_group = []\n",
        "for year_group in year_groups:\n",
        "  group_df = df.loc[(df[\"Year\"] >= year_group[0]) & (df[\"Year\"] <= year_group[1])]\n",
        "  median_combined_mpg = group_df[\"Combined MPG\"].median()\n",
        "  median_combined_mpg_by_year_group.append((year_group, median_combined_mpg))\n",
        "\n",
        "# Print the results\n",
        "print(median_combined_mpg_by_year_group)\n",
        "\n",
        "answer_dict[\"Q7\"] = [((1984, 1988), 19.0), ((1989, 1993), 18.0), ((1994, 1998), 19.0), ((1999, 2003), 19.0), ((2004, 2008), 19.0), ((2009, 2013), 21.0), ((2014, 2018), 22.0)]\n"
      ],
      "metadata": {
        "id": "1cMEyFXVxBU3",
        "outputId": "fb25d350-a8a9-40fa-f827-3599155dcbca",
        "colab": {
          "base_uri": "https://localhost:8080/"
        }
      },
      "execution_count": 12,
      "outputs": [
        {
          "output_type": "stream",
          "name": "stdout",
          "text": [
            "[((1984, 1988), 19.0), ((1989, 1993), 18.0), ((1994, 1998), 19.0), ((1999, 2003), 19.0), ((2004, 2008), 19.0), ((2009, 2013), 21.0), ((2014, 2018), 22.0)]\n"
          ]
        }
      ]
    },
    {
      "cell_type": "markdown",
      "source": [
        "##Test your answers\n",
        "\n",
        "##### We provide you some tests to make sure your answer dictionary is in the correct format using unittest.\n",
        "##### These tests are not meant to be comprehensive, you should review all your answers carefully."
      ],
      "metadata": {
        "id": "LiGydnlQ4cX4"
      }
    },
    {
      "cell_type": "code",
      "source": [
        "import unittest\n",
        "\n",
        "class TestAnswers(unittest.TestCase):\n",
        "    def test_if_dict(self):\n",
        "        self.assertIsInstance(answer_dict, dict)\n",
        "\n",
        "    def test_keys(self):\n",
        "        self.assertEqual(list(answer_dict.keys()), ['Q1', 'Q2', 'Q3', 'Q4', 'Q5', 'Q6', 'Q7'])\n",
        "\n",
        "    def test_answers_types(self):\n",
        "        types_values = [type(k) for k in answer_dict.values()]\n",
        "        answer_types = [float, list, list, list, list, list, list]\n",
        "        self.assertEqual(types_values, answer_types)\n",
        "\n",
        "    def test_Q1(self):\n",
        "        self.assertEqual(type(answer_dict['Q1']), float)\n",
        "\n",
        "    def test_Q2_dim(self):\n",
        "        self.assertEqual(np.array(answer_dict['Q2']).shape, (5,2))\n",
        "\n",
        "    def test_Q2_types(self):\n",
        "        dtype1 = type(answer_dict['Q2'][0][0])\n",
        "        dtype2 = type(answer_dict['Q2'][0][1])\n",
        "        self.assertEqual([dtype1, dtype2], [str, int])\n",
        "\n",
        "    def test_Q3_types(self):\n",
        "        q3_types = set([type(item) for item in answer_dict['Q3']])\n",
        "        self.assertEqual(q3_types, {str})\n",
        "\n",
        "    def test_Q4_dim(self):\n",
        "        self.assertEqual(np.array(answer_dict['Q4']).shape, (9,3))\n",
        "\n",
        "    def test_Q4_types(self):\n",
        "        dtype1 = type(answer_dict['Q4'][0][0])\n",
        "        dtype2 = type(answer_dict['Q4'][0][1])\n",
        "        dtype3 = type(answer_dict['Q4'][0][2])\n",
        "        self.assertEqual([dtype1, dtype2, dtype3], [str, int, float])\n",
        "\n",
        "    def test_Q5_dim(self):\n",
        "        self.assertEqual(np.array(answer_dict['Q5']).shape, (19,3))\n",
        "\n",
        "    def test_Q5_types(self):\n",
        "        dtype1 = type(answer_dict['Q5'][0][0])\n",
        "        dtype2 = type(answer_dict['Q5'][0][1])\n",
        "        dtype3 = type(answer_dict['Q5'][0][2])\n",
        "        self.assertEqual([dtype1, dtype2, dtype3], [int, int, float])\n",
        "\n",
        "    def test_Q5_first_zero(self):\n",
        "        self.assertEqual(answer_dict['Q5'][0][2], 0)\n",
        "\n",
        "\n",
        "    def test_Q6_dim(self):\n",
        "        self.assertEqual(np.array(answer_dict['Q6']).shape, (5,6))\n",
        "\n",
        "    def test_Q5_types(self):\n",
        "        dtype1 = type(answer_dict['Q6'][0][0])\n",
        "        dtype2 = type(answer_dict['Q6'][0][1])\n",
        "        dtype3 = type(answer_dict['Q6'][0][2])\n",
        "        dtype4 = type(answer_dict['Q6'][0][3])\n",
        "        dtype5 = type(answer_dict['Q6'][0][4])\n",
        "        dtype6 = type(answer_dict['Q6'][0][5])\n",
        "        self.assertEqual([dtype1, dtype2, dtype3, dtype4, dtype5, dtype6], [str, float, float, float, float, float])\n",
        "\n",
        "    def test_Q6_check_first_and_last_brand(self):\n",
        "        first_brand = answer_dict['Q6'][0][0]\n",
        "        last_brand = answer_dict['Q6'][4][0]\n",
        "\n",
        "        self.assertEqual([first_brand, last_brand], [\"Toyota\", \"Honda\"])\n",
        "\n",
        "    def test_Q7_dim(self):\n",
        "        self.assertEqual(np.array(answer_dict['Q7'], dtype=object).shape, (7,2))\n",
        "\n",
        "    def test_Q7_types(self):\n",
        "        dtype1 = type(answer_dict['Q7'][0][0])\n",
        "        dtype2 = type(answer_dict['Q7'][0][1])\n",
        "        self.assertEqual([dtype1, dtype2], [tuple, float])\n",
        "\n",
        "unittest.main(argv=[''], verbosity=2, exit=False)"
      ],
      "metadata": {
        "id": "iNwVFmHZ4csn",
        "colab": {
          "base_uri": "https://localhost:8080/"
        },
        "outputId": "5fc78c31-bb93-45e5-89cc-2fbbd9f3351f"
      },
      "execution_count": 13,
      "outputs": [
        {
          "output_type": "stream",
          "name": "stderr",
          "text": [
            "test_Q1 (__main__.TestAnswers) ... ok\n",
            "test_Q2_dim (__main__.TestAnswers) ... ok\n",
            "test_Q2_types (__main__.TestAnswers) ... ok\n",
            "test_Q3_types (__main__.TestAnswers) ... ok\n",
            "test_Q4_dim (__main__.TestAnswers) ... FAIL\n",
            "test_Q4_types (__main__.TestAnswers) ... ERROR\n",
            "test_Q5_dim (__main__.TestAnswers) ... FAIL\n",
            "test_Q5_first_zero (__main__.TestAnswers) ... ERROR\n",
            "test_Q5_types (__main__.TestAnswers) ... ok\n",
            "test_Q6_check_first_and_last_brand (__main__.TestAnswers) ... ok\n",
            "test_Q6_dim (__main__.TestAnswers) ... ok\n",
            "test_Q7_dim (__main__.TestAnswers) ... ok\n",
            "test_Q7_types (__main__.TestAnswers) ... ok\n",
            "test_answers_types (__main__.TestAnswers) ... FAIL\n",
            "test_if_dict (__main__.TestAnswers) ... ok\n",
            "test_keys (__main__.TestAnswers) ... ok\n",
            "\n",
            "======================================================================\n",
            "ERROR: test_Q4_types (__main__.TestAnswers)\n",
            "----------------------------------------------------------------------\n",
            "Traceback (most recent call last):\n",
            "  File \"<ipython-input-13-ea466fca2033>\", line 34, in test_Q4_types\n",
            "    dtype1 = type(answer_dict['Q4'][0][0])\n",
            "TypeError: 'NoneType' object is not subscriptable\n",
            "\n",
            "======================================================================\n",
            "ERROR: test_Q5_first_zero (__main__.TestAnswers)\n",
            "----------------------------------------------------------------------\n",
            "Traceback (most recent call last):\n",
            "  File \"<ipython-input-13-ea466fca2033>\", line 49, in test_Q5_first_zero\n",
            "    self.assertEqual(answer_dict['Q5'][0][2], 0)\n",
            "TypeError: 'NoneType' object is not subscriptable\n",
            "\n",
            "======================================================================\n",
            "FAIL: test_Q4_dim (__main__.TestAnswers)\n",
            "----------------------------------------------------------------------\n",
            "Traceback (most recent call last):\n",
            "  File \"<ipython-input-13-ea466fca2033>\", line 31, in test_Q4_dim\n",
            "    self.assertEqual(np.array(answer_dict['Q4']).shape, (9,3))\n",
            "AssertionError: Tuples differ: () != (9, 3)\n",
            "\n",
            "Second tuple contains 2 additional elements.\n",
            "First extra element 0:\n",
            "9\n",
            "\n",
            "- ()\n",
            "+ (9, 3)\n",
            "\n",
            "======================================================================\n",
            "FAIL: test_Q5_dim (__main__.TestAnswers)\n",
            "----------------------------------------------------------------------\n",
            "Traceback (most recent call last):\n",
            "  File \"<ipython-input-13-ea466fca2033>\", line 40, in test_Q5_dim\n",
            "    self.assertEqual(np.array(answer_dict['Q5']).shape, (19,3))\n",
            "AssertionError: Tuples differ: () != (19, 3)\n",
            "\n",
            "Second tuple contains 2 additional elements.\n",
            "First extra element 0:\n",
            "19\n",
            "\n",
            "- ()\n",
            "+ (19, 3)\n",
            "\n",
            "======================================================================\n",
            "FAIL: test_answers_types (__main__.TestAnswers)\n",
            "----------------------------------------------------------------------\n",
            "Traceback (most recent call last):\n",
            "  File \"<ipython-input-13-ea466fca2033>\", line 13, in test_answers_types\n",
            "    self.assertEqual(types_values, answer_types)\n",
            "AssertionError: Lists differ: [<cla[48 chars]ass 'NoneType'>, <class 'NoneType'>, <class 'l[17 chars]st'>] != [<cla[48 chars]ass 'list'>, <class 'list'>, <class 'list'>, <class 'list'>]\n",
            "\n",
            "First differing element 3:\n",
            "<class 'NoneType'>\n",
            "<class 'list'>\n",
            "\n",
            "  [<class 'float'>,\n",
            "   <class 'list'>,\n",
            "   <class 'list'>,\n",
            "-  <class 'NoneType'>,\n",
            "-  <class 'NoneType'>,\n",
            "+  <class 'list'>,\n",
            "+  <class 'list'>,\n",
            "   <class 'list'>,\n",
            "   <class 'list'>]\n",
            "\n",
            "----------------------------------------------------------------------\n",
            "Ran 16 tests in 0.043s\n",
            "\n",
            "FAILED (failures=3, errors=2)\n"
          ]
        },
        {
          "output_type": "execute_result",
          "data": {
            "text/plain": [
              "<unittest.main.TestProgram at 0x7925771ab880>"
            ]
          },
          "metadata": {},
          "execution_count": 13
        }
      ]
    },
    {
      "cell_type": "markdown",
      "source": [
        "##Save your answers\n",
        "\n",
        "\n",
        "##### First, take a moment to evaluate your answers and make sure you have not missed anything\n",
        "\n",
        "##### Use the following code to save your answers in pickle format, change the filename using the following format:\n",
        "##### FIRSTNAME_LASTNAME_answers.pkl\n",
        "##### Example: Juan_Perez_answers.pkl\n",
        "\n",
        "##### If you are using google colab you can find your file on the left side bar by clicking the folder icon inside the sample_data folder. Remember to upload the pickle file and the notebook to github and submit their URLs to the [google form](https://forms.gle/jqufStbvLd99bF539)."
      ],
      "metadata": {
        "id": "O_Wx_D0kGjmc"
      }
    },
    {
      "cell_type": "code",
      "source": [
        "answer_dict"
      ],
      "metadata": {
        "id": "nCzU1sKMknfH",
        "colab": {
          "base_uri": "https://localhost:8080/"
        },
        "outputId": "8248488c-c164-45b9-b809-bbcd8e98f396"
      },
      "execution_count": 14,
      "outputs": [
        {
          "output_type": "execute_result",
          "data": {
            "text/plain": [
              "{'Q1': 475.3163392572124,\n",
              " 'Q2': [['Mercedes-Benz', 333],\n",
              "  ['BMW', 284],\n",
              "  ['Chevrolet', 253],\n",
              "  ['Ford', 185],\n",
              "  ['GMC', 163]],\n",
              " 'Q3': ['CNG',\n",
              "  'Diesel',\n",
              "  'Gasoline or E85',\n",
              "  'Gasoline or natural gas',\n",
              "  'Gasoline or propane',\n",
              "  'Midgrade',\n",
              "  'Premium',\n",
              "  'Premium Gas or Electricity',\n",
              "  'Premium and Electricity',\n",
              "  'Premium or E85',\n",
              "  'Regular',\n",
              "  'Regular Gas and Electricity',\n",
              "  'Regular Gas or Electricity'],\n",
              " 'Q4': None,\n",
              " 'Q5': None,\n",
              " 'Q6': [['Toyota', 133.0, 133.0, 133.0, 133.0, 158.0],\n",
              "  ['Ford', 112.0, 129.0, 129.0, 129.0, 129.0],\n",
              "  ['Volkswagen', 200.0, 200.0, 200.0, 200.0, 261.025641025641],\n",
              "  ['Nissan', 249.0, 254.0, 254.5, 254.5, 254.5],\n",
              "  ['Honda',\n",
              "   130.0,\n",
              "   167.67924528301887,\n",
              "   167.67924528301887,\n",
              "   167.67924528301887,\n",
              "   167.67924528301887]],\n",
              " 'Q7': [((1984, 1988), 19.0),\n",
              "  ((1989, 1993), 18.0),\n",
              "  ((1994, 1998), 19.0),\n",
              "  ((1999, 2003), 19.0),\n",
              "  ((2004, 2008), 19.0),\n",
              "  ((2009, 2013), 21.0),\n",
              "  ((2014, 2018), 22.0)]}"
            ]
          },
          "metadata": {},
          "execution_count": 14
        }
      ]
    },
    {
      "cell_type": "code",
      "source": [
        "import pickle\n",
        "\n",
        "file_name = \"West_Onyinsi_answers.pkl\"\n",
        "path = \"\"\n",
        "\n",
        "with open(path+file_name, 'wb') as f:\n",
        "    pickle.dump(answer_dict, f, protocol=pickle.HIGHEST_PROTOCOL)"
      ],
      "metadata": {
        "id": "dEZ-vo0QGTeu"
      },
      "execution_count": 15,
      "outputs": []
    }
  ]
}